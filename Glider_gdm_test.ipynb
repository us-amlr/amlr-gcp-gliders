{
 "cells": [
  {
   "cell_type": "markdown",
   "id": "830a6c94",
   "metadata": {},
   "source": [
    "# Use Kerfoot's GDM toolbox to process AMLR glider DBA files"
   ]
  },
  {
   "cell_type": "markdown",
   "id": "3e47b76a",
   "metadata": {},
   "source": [
    "Import libraries, including gdm (cloned from https://github.com/kerfoot/gdm)"
   ]
  },
  {
   "cell_type": "code",
   "execution_count": 17,
   "id": "2c6aacb7",
   "metadata": {},
   "outputs": [],
   "source": [
    "import os\n",
    "import sys\n",
    "sys.path.append(\"/home/jupyter/gdm\")"
   ]
  },
  {
   "cell_type": "code",
   "execution_count": 20,
   "id": "e9988f2a",
   "metadata": {},
   "outputs": [],
   "source": [
    "from gdm import GliderDataModel\n",
    "from gdm.gliders.slocum import get_dbas, load_slocum_dba"
   ]
  },
  {
   "cell_type": "markdown",
   "id": "9e888f9f",
   "metadata": {},
   "source": [
    "Create an instance of the GliderDataModel Class"
   ]
  },
  {
   "cell_type": "code",
   "execution_count": 6,
   "id": "93625861",
   "metadata": {},
   "outputs": [],
   "source": [
    "config_path = '/home/jupyter/gdm/tests/datasets/ru16-20110810T1330/config'\n",
    "gdm = GliderDataModel(config_path)"
   ]
  },
  {
   "cell_type": "code",
   "execution_count": 7,
   "id": "754420ec",
   "metadata": {},
   "outputs": [
    {
     "data": {
      "text/plain": [
       "<GliderNetCDF(cfg=True, data=(0, 0), profiles=0)>"
      ]
     },
     "execution_count": 7,
     "metadata": {},
     "output_type": "execute_result"
    }
   ],
   "source": [
    "gdm"
   ]
  },
  {
   "cell_type": "markdown",
   "id": "e1318155",
   "metadata": {},
   "source": [
    "List all dba files in specified directory"
   ]
  },
  {
   "cell_type": "code",
   "execution_count": 14,
   "id": "922da88d",
   "metadata": {},
   "outputs": [
    {
     "name": "stdout",
     "output_type": "stream",
     "text": [
      "<class 'pandas.core.frame.DataFrame'>\n",
      "DatetimeIndex: 7 entries, 2011-08-10 13:27:45+00:00 to 2011-08-10 16:38:35+00:00\n",
      "Data columns (total 18 columns):\n",
      " #   Column              Non-Null Count  Dtype \n",
      "---  ------              --------------  ----- \n",
      " 0   file                7 non-null      object\n",
      " 1   dbd_label           7 non-null      object\n",
      " 2   encoding_ver        7 non-null      object\n",
      " 3   num_ascii_tags      7 non-null      object\n",
      " 4   all_sensors         7 non-null      object\n",
      " 5   filename            7 non-null      object\n",
      " 6   the8x3_filename     7 non-null      object\n",
      " 7   filename_extension  7 non-null      object\n",
      " 8   filename_label      7 non-null      object\n",
      " 9   mission_name        7 non-null      object\n",
      " 10  fileopen_time       7 non-null      object\n",
      " 11  sensors_per_cycle   7 non-null      object\n",
      " 12  num_label_lines     7 non-null      object\n",
      " 13  num_segments        7 non-null      object\n",
      " 14  segment_filename_0  7 non-null      object\n",
      " 15  path                7 non-null      object\n",
      " 16  bytes               7 non-null      int64 \n",
      " 17  glider              7 non-null      object\n",
      "dtypes: int64(1), object(17)\n",
      "memory usage: 1.0+ KB\n"
     ]
    }
   ],
   "source": [
    "dba_path = '/home/jupyter/gdm/tests/datasets/ru16-20110810T1330/dba'\n",
    "dba_files = get_dbas(dba_path)\n",
    "dba_files.info()"
   ]
  },
  {
   "cell_type": "code",
   "execution_count": 15,
   "id": "7f4d7b2a",
   "metadata": {},
   "outputs": [
    {
     "data": {
      "text/plain": [
       "file                                          ru16_2011_221_3_0_sbd.dat\n",
       "dbd_label                         DBD_ASC(dinkum_binary_data_ascii)file\n",
       "encoding_ver                                                          2\n",
       "num_ascii_tags                                                       14\n",
       "all_sensors                                                           0\n",
       "filename                                           ru16-2011-221-3-0-sf\n",
       "the8x3_filename                                                00640000\n",
       "filename_extension                                                  sbd\n",
       "filename_label                          ru16-2011-221-3-0-sbd(00640000)\n",
       "mission_name                                                  100_TN.MI\n",
       "fileopen_time                                  Wed_Aug_10_13:27:45_2011\n",
       "sensors_per_cycle                                                    24\n",
       "num_label_lines                                                       3\n",
       "num_segments                                                          1\n",
       "segment_filename_0                                    ru16-2011-221-3-0\n",
       "path                  /home/jupyter/gdm/tests/datasets/ru16-20110810...\n",
       "bytes                                                             40091\n",
       "glider                                                             ru16\n",
       "Name: 2011-08-10 13:27:45+00:00, dtype: object"
      ]
     },
     "execution_count": 15,
     "metadata": {},
     "output_type": "execute_result"
    }
   ],
   "source": [
    "dba_files.iloc[0]"
   ]
  },
  {
   "cell_type": "code",
   "execution_count": 22,
   "id": "de781056",
   "metadata": {},
   "outputs": [
    {
     "name": "stderr",
     "output_type": "stream",
     "text": [
      "/home/jupyter/gdm/gdm/gliders/slocum.py:108: FutureWarning: The error_bad_lines argument has been deprecated and will be removed in a future version.\n",
      "\n",
      "\n",
      "  df = load_dba_to_df(dba_file, keep_gld_dups=keep_gld_dups)\n",
      "/home/jupyter/gdm/gdm/gliders/slocum.py:108: FutureWarning: The warn_bad_lines argument has been deprecated and will be removed in a future version.\n",
      "\n",
      "\n",
      "  df = load_dba_to_df(dba_file, keep_gld_dups=keep_gld_dups)\n"
     ]
    },
    {
     "ename": "NotImplementedError",
     "evalue": "Cannot apply ufunc <ufunc 'z_from_p'> to mixed DataFrame and Series inputs.",
     "output_type": "error",
     "traceback": [
      "\u001b[0;31m---------------------------------------------------------------------------\u001b[0m",
      "\u001b[0;31mNotImplementedError\u001b[0m                       Traceback (most recent call last)",
      "\u001b[0;32m<ipython-input-22-852329f5fd50>\u001b[0m in \u001b[0;36m<module>\u001b[0;34m\u001b[0m\n\u001b[1;32m      1\u001b[0m \u001b[0mdba_file\u001b[0m \u001b[0;34m=\u001b[0m \u001b[0mos\u001b[0m\u001b[0;34m.\u001b[0m\u001b[0mpath\u001b[0m\u001b[0;34m.\u001b[0m\u001b[0mjoin\u001b[0m\u001b[0;34m(\u001b[0m\u001b[0mdba_files\u001b[0m\u001b[0;34m.\u001b[0m\u001b[0miloc\u001b[0m\u001b[0;34m[\u001b[0m\u001b[0;36m0\u001b[0m\u001b[0;34m]\u001b[0m\u001b[0;34m.\u001b[0m\u001b[0mpath\u001b[0m\u001b[0;34m,\u001b[0m \u001b[0mdba_files\u001b[0m\u001b[0;34m.\u001b[0m\u001b[0miloc\u001b[0m\u001b[0;34m[\u001b[0m\u001b[0;36m0\u001b[0m\u001b[0;34m]\u001b[0m\u001b[0;34m.\u001b[0m\u001b[0mfile\u001b[0m\u001b[0;34m)\u001b[0m\u001b[0;34m\u001b[0m\u001b[0;34m\u001b[0m\u001b[0m\n\u001b[0;32m----> 2\u001b[0;31m \u001b[0mdba\u001b[0m\u001b[0;34m,\u001b[0m \u001b[0mpro_meta\u001b[0m \u001b[0;34m=\u001b[0m \u001b[0mload_slocum_dba\u001b[0m\u001b[0;34m(\u001b[0m\u001b[0mdba_file\u001b[0m\u001b[0;34m)\u001b[0m\u001b[0;34m\u001b[0m\u001b[0;34m\u001b[0m\u001b[0m\n\u001b[0m",
      "\u001b[0;32m~/gdm/gdm/gliders/slocum.py\u001b[0m in \u001b[0;36mload_slocum_dba\u001b[0;34m(dba_file, temp_sensor, cond_sensor, pres_sensor, keep_gld_dups)\u001b[0m\n\u001b[1;32m     83\u001b[0m \u001b[0;34m\u001b[0m\u001b[0m\n\u001b[1;32m     84\u001b[0m     \u001b[0;31m# Calculate derived CTD data\u001b[0m\u001b[0;34m\u001b[0m\u001b[0;34m\u001b[0m\u001b[0;34m\u001b[0m\u001b[0m\n\u001b[0;32m---> 85\u001b[0;31m     \u001b[0mctd_params\u001b[0m \u001b[0;34m=\u001b[0m \u001b[0mderive_ctd\u001b[0m\u001b[0;34m(\u001b[0m\u001b[0mdba\u001b[0m\u001b[0;34m[\u001b[0m\u001b[0mcond_sensor\u001b[0m\u001b[0;34m]\u001b[0m\u001b[0;34m,\u001b[0m \u001b[0mdba\u001b[0m\u001b[0;34m[\u001b[0m\u001b[0mtemp_sensor\u001b[0m\u001b[0;34m]\u001b[0m\u001b[0;34m,\u001b[0m \u001b[0mdba\u001b[0m\u001b[0;34m[\u001b[0m\u001b[0mpres_sensor\u001b[0m\u001b[0;34m]\u001b[0m\u001b[0;34m,\u001b[0m \u001b[0mdba\u001b[0m\u001b[0;34m.\u001b[0m\u001b[0milatitude\u001b[0m\u001b[0;34m,\u001b[0m \u001b[0mdba\u001b[0m\u001b[0;34m.\u001b[0m\u001b[0milongitude\u001b[0m\u001b[0;34m)\u001b[0m\u001b[0;34m\u001b[0m\u001b[0;34m\u001b[0m\u001b[0m\n\u001b[0m\u001b[1;32m     86\u001b[0m \u001b[0;34m\u001b[0m\u001b[0m\n\u001b[1;32m     87\u001b[0m     \u001b[0;31m# Add the derived CTD parameters to the data frame\u001b[0m\u001b[0;34m\u001b[0m\u001b[0;34m\u001b[0m\u001b[0;34m\u001b[0m\u001b[0m\n",
      "\u001b[0;32m~/gdm/gdm/ctd.py\u001b[0m in \u001b[0;36mderive_ctd\u001b[0;34m(c, t, p, lat, lon)\u001b[0m\n\u001b[1;32m     50\u001b[0m     \u001b[0mraw_ctd\u001b[0m\u001b[0;34m.\u001b[0m\u001b[0mrename\u001b[0m\u001b[0;34m(\u001b[0m\u001b[0mcolumns\u001b[0m\u001b[0;34m=\u001b[0m\u001b[0mmappings\u001b[0m\u001b[0;34m,\u001b[0m \u001b[0minplace\u001b[0m\u001b[0;34m=\u001b[0m\u001b[0;32mTrue\u001b[0m\u001b[0;34m)\u001b[0m\u001b[0;34m\u001b[0m\u001b[0;34m\u001b[0m\u001b[0m\n\u001b[1;32m     51\u001b[0m \u001b[0;34m\u001b[0m\u001b[0m\n\u001b[0;32m---> 52\u001b[0;31m     \u001b[0mdepth\u001b[0m \u001b[0;34m=\u001b[0m \u001b[0mcalculate_depth\u001b[0m\u001b[0;34m(\u001b[0m\u001b[0mraw_ctd\u001b[0m\u001b[0;34m.\u001b[0m\u001b[0mpres\u001b[0m\u001b[0;34m,\u001b[0m \u001b[0mraw_ctd\u001b[0m\u001b[0;34m.\u001b[0m\u001b[0mlat\u001b[0m\u001b[0;34m)\u001b[0m\u001b[0;34m\u001b[0m\u001b[0;34m\u001b[0m\u001b[0m\n\u001b[0m\u001b[1;32m     53\u001b[0m     \u001b[0msalinity\u001b[0m \u001b[0;34m=\u001b[0m \u001b[0mcalculate_practical_salinity\u001b[0m\u001b[0;34m(\u001b[0m\u001b[0mraw_ctd\u001b[0m\u001b[0;34m.\u001b[0m\u001b[0mcond\u001b[0m\u001b[0;34m,\u001b[0m \u001b[0mraw_ctd\u001b[0m\u001b[0;34m.\u001b[0m\u001b[0mtemp\u001b[0m\u001b[0;34m,\u001b[0m \u001b[0mraw_ctd\u001b[0m\u001b[0;34m.\u001b[0m\u001b[0mpres\u001b[0m\u001b[0;34m)\u001b[0m\u001b[0;34m\u001b[0m\u001b[0;34m\u001b[0m\u001b[0m\n\u001b[1;32m     54\u001b[0m     \u001b[0mdensity\u001b[0m \u001b[0;34m=\u001b[0m \u001b[0mcalculate_density\u001b[0m\u001b[0;34m(\u001b[0m\u001b[0mraw_ctd\u001b[0m\u001b[0;34m.\u001b[0m\u001b[0mtemp\u001b[0m\u001b[0;34m,\u001b[0m \u001b[0mraw_ctd\u001b[0m\u001b[0;34m.\u001b[0m\u001b[0mpres\u001b[0m\u001b[0;34m,\u001b[0m \u001b[0msalinity\u001b[0m\u001b[0;34m,\u001b[0m \u001b[0mraw_ctd\u001b[0m\u001b[0;34m.\u001b[0m\u001b[0mlat\u001b[0m\u001b[0;34m,\u001b[0m \u001b[0mraw_ctd\u001b[0m\u001b[0;34m.\u001b[0m\u001b[0mlon\u001b[0m\u001b[0;34m)\u001b[0m\u001b[0;34m\u001b[0m\u001b[0;34m\u001b[0m\u001b[0m\n",
      "\u001b[0;32m~/gdm/gdm/ctd.py\u001b[0m in \u001b[0;36mcalculate_depth\u001b[0;34m(pressure, latitude)\u001b[0m\n\u001b[1;32m    162\u001b[0m     \"\"\"\n\u001b[1;32m    163\u001b[0m \u001b[0;34m\u001b[0m\u001b[0m\n\u001b[0;32m--> 164\u001b[0;31m     \u001b[0;32mreturn\u001b[0m \u001b[0mabs\u001b[0m\u001b[0;34m(\u001b[0m\u001b[0mz_from_p\u001b[0m\u001b[0;34m(\u001b[0m\u001b[0mpressure\u001b[0m\u001b[0;34m,\u001b[0m \u001b[0mlatitude\u001b[0m\u001b[0;34m)\u001b[0m\u001b[0;34m)\u001b[0m\u001b[0;34m\u001b[0m\u001b[0;34m\u001b[0m\u001b[0m\n\u001b[0m\u001b[1;32m    165\u001b[0m \u001b[0;34m\u001b[0m\u001b[0m\n\u001b[1;32m    166\u001b[0m \u001b[0;34m\u001b[0m\u001b[0m\n",
      "\u001b[0;32m/opt/conda/lib/python3.7/site-packages/gsw/_fixed_wrapped_ufuncs.py\u001b[0m in \u001b[0;36mz_from_p\u001b[0;34m(p, lat, geo_strf_dyn_height, sea_surface_geopotential)\u001b[0m\n\u001b[1;32m     13\u001b[0m \u001b[0m_z_from_p\u001b[0m \u001b[0;34m=\u001b[0m \u001b[0mz_from_p\u001b[0m\u001b[0;34m\u001b[0m\u001b[0;34m\u001b[0m\u001b[0m\n\u001b[1;32m     14\u001b[0m \u001b[0;32mdef\u001b[0m \u001b[0mz_from_p\u001b[0m\u001b[0;34m(\u001b[0m\u001b[0mp\u001b[0m\u001b[0;34m,\u001b[0m \u001b[0mlat\u001b[0m\u001b[0;34m,\u001b[0m \u001b[0mgeo_strf_dyn_height\u001b[0m\u001b[0;34m=\u001b[0m\u001b[0;36m0\u001b[0m\u001b[0;34m,\u001b[0m \u001b[0msea_surface_geopotential\u001b[0m\u001b[0;34m=\u001b[0m\u001b[0;36m0\u001b[0m\u001b[0;34m)\u001b[0m\u001b[0;34m:\u001b[0m\u001b[0;34m\u001b[0m\u001b[0;34m\u001b[0m\u001b[0m\n\u001b[0;32m---> 15\u001b[0;31m     \u001b[0;32mreturn\u001b[0m \u001b[0m_z_from_p\u001b[0m\u001b[0;34m(\u001b[0m\u001b[0mp\u001b[0m\u001b[0;34m,\u001b[0m \u001b[0mlat\u001b[0m\u001b[0;34m,\u001b[0m \u001b[0mgeo_strf_dyn_height\u001b[0m\u001b[0;34m,\u001b[0m \u001b[0msea_surface_geopotential\u001b[0m\u001b[0;34m)\u001b[0m\u001b[0;34m\u001b[0m\u001b[0;34m\u001b[0m\u001b[0m\n\u001b[0m\u001b[1;32m     16\u001b[0m \u001b[0mz_from_p\u001b[0m\u001b[0;34m.\u001b[0m\u001b[0m__doc__\u001b[0m \u001b[0;34m=\u001b[0m \u001b[0m_z_from_p\u001b[0m\u001b[0;34m.\u001b[0m\u001b[0m__doc__\u001b[0m\u001b[0;34m\u001b[0m\u001b[0;34m\u001b[0m\u001b[0m\n\u001b[1;32m     17\u001b[0m \u001b[0;34m\u001b[0m\u001b[0m\n",
      "\u001b[0;32m/opt/conda/lib/python3.7/site-packages/gsw/_utilities.py\u001b[0m in \u001b[0;36mwrapper\u001b[0;34m(*args, **kw)\u001b[0m\n\u001b[1;32m     60\u001b[0m             \u001b[0mkw\u001b[0m\u001b[0;34m[\u001b[0m\u001b[0;34m'p'\u001b[0m\u001b[0;34m]\u001b[0m \u001b[0;34m=\u001b[0m \u001b[0mnewargs\u001b[0m\u001b[0;34m.\u001b[0m\u001b[0mpop\u001b[0m\u001b[0;34m(\u001b[0m\u001b[0;34m)\u001b[0m\u001b[0;34m\u001b[0m\u001b[0;34m\u001b[0m\u001b[0m\n\u001b[1;32m     61\u001b[0m \u001b[0;34m\u001b[0m\u001b[0m\n\u001b[0;32m---> 62\u001b[0;31m         \u001b[0mret\u001b[0m \u001b[0;34m=\u001b[0m \u001b[0mf\u001b[0m\u001b[0;34m(\u001b[0m\u001b[0;34m*\u001b[0m\u001b[0mnewargs\u001b[0m\u001b[0;34m,\u001b[0m \u001b[0;34m**\u001b[0m\u001b[0mkw\u001b[0m\u001b[0;34m)\u001b[0m\u001b[0;34m\u001b[0m\u001b[0;34m\u001b[0m\u001b[0m\n\u001b[0m\u001b[1;32m     63\u001b[0m \u001b[0;34m\u001b[0m\u001b[0m\n\u001b[1;32m     64\u001b[0m         \u001b[0;32mif\u001b[0m \u001b[0misinstance\u001b[0m\u001b[0;34m(\u001b[0m\u001b[0mret\u001b[0m\u001b[0;34m,\u001b[0m \u001b[0mtuple\u001b[0m\u001b[0;34m)\u001b[0m\u001b[0;34m:\u001b[0m\u001b[0;34m\u001b[0m\u001b[0;34m\u001b[0m\u001b[0m\n",
      "\u001b[0;32m/opt/conda/lib/python3.7/site-packages/gsw/_wrapped_ufuncs.py\u001b[0m in \u001b[0;36mz_from_p\u001b[0;34m(p, lat, geo_strf_dyn_height, sea_surface_geopotential)\u001b[0m\n\u001b[1;32m   4424\u001b[0m \u001b[0;34m\u001b[0m\u001b[0m\n\u001b[1;32m   4425\u001b[0m     \"\"\"\n\u001b[0;32m-> 4426\u001b[0;31m     \u001b[0;32mreturn\u001b[0m \u001b[0m_gsw_ufuncs\u001b[0m\u001b[0;34m.\u001b[0m\u001b[0mz_from_p\u001b[0m\u001b[0;34m(\u001b[0m\u001b[0mp\u001b[0m\u001b[0;34m,\u001b[0m \u001b[0mlat\u001b[0m\u001b[0;34m,\u001b[0m \u001b[0mgeo_strf_dyn_height\u001b[0m\u001b[0;34m,\u001b[0m \u001b[0msea_surface_geopotential\u001b[0m\u001b[0;34m)\u001b[0m\u001b[0;34m\u001b[0m\u001b[0;34m\u001b[0m\u001b[0m\n\u001b[0m",
      "\u001b[0;32m/opt/conda/lib/python3.7/site-packages/pandas/core/generic.py\u001b[0m in \u001b[0;36m__array_ufunc__\u001b[0;34m(self, ufunc, method, *inputs, **kwargs)\u001b[0m\n\u001b[1;32m   2027\u001b[0m         \u001b[0mself\u001b[0m\u001b[0;34m,\u001b[0m \u001b[0mufunc\u001b[0m\u001b[0;34m:\u001b[0m \u001b[0mnp\u001b[0m\u001b[0;34m.\u001b[0m\u001b[0mufunc\u001b[0m\u001b[0;34m,\u001b[0m \u001b[0mmethod\u001b[0m\u001b[0;34m:\u001b[0m \u001b[0mstr\u001b[0m\u001b[0;34m,\u001b[0m \u001b[0;34m*\u001b[0m\u001b[0minputs\u001b[0m\u001b[0;34m:\u001b[0m \u001b[0mAny\u001b[0m\u001b[0;34m,\u001b[0m \u001b[0;34m**\u001b[0m\u001b[0mkwargs\u001b[0m\u001b[0;34m:\u001b[0m \u001b[0mAny\u001b[0m\u001b[0;34m\u001b[0m\u001b[0;34m\u001b[0m\u001b[0m\n\u001b[1;32m   2028\u001b[0m     ):\n\u001b[0;32m-> 2029\u001b[0;31m         \u001b[0;32mreturn\u001b[0m \u001b[0marraylike\u001b[0m\u001b[0;34m.\u001b[0m\u001b[0marray_ufunc\u001b[0m\u001b[0;34m(\u001b[0m\u001b[0mself\u001b[0m\u001b[0;34m,\u001b[0m \u001b[0mufunc\u001b[0m\u001b[0;34m,\u001b[0m \u001b[0mmethod\u001b[0m\u001b[0;34m,\u001b[0m \u001b[0;34m*\u001b[0m\u001b[0minputs\u001b[0m\u001b[0;34m,\u001b[0m \u001b[0;34m**\u001b[0m\u001b[0mkwargs\u001b[0m\u001b[0;34m)\u001b[0m\u001b[0;34m\u001b[0m\u001b[0;34m\u001b[0m\u001b[0m\n\u001b[0m\u001b[1;32m   2030\u001b[0m \u001b[0;34m\u001b[0m\u001b[0m\n\u001b[1;32m   2031\u001b[0m     \u001b[0;31m# ideally we would define this to avoid the getattr checks, but\u001b[0m\u001b[0;34m\u001b[0m\u001b[0;34m\u001b[0m\u001b[0;34m\u001b[0m\u001b[0m\n",
      "\u001b[0;32m/opt/conda/lib/python3.7/site-packages/pandas/core/arraylike.py\u001b[0m in \u001b[0;36marray_ufunc\u001b[0;34m(self, ufunc, method, *inputs, **kwargs)\u001b[0m\n\u001b[1;32m    292\u001b[0m             raise NotImplementedError(\n\u001b[1;32m    293\u001b[0m                 \u001b[0;34m\"Cannot apply ufunc {} to mixed DataFrame and Series \"\u001b[0m\u001b[0;34m\u001b[0m\u001b[0;34m\u001b[0m\u001b[0m\n\u001b[0;32m--> 294\u001b[0;31m                 \u001b[0;34m\"inputs.\"\u001b[0m\u001b[0;34m.\u001b[0m\u001b[0mformat\u001b[0m\u001b[0;34m(\u001b[0m\u001b[0mufunc\u001b[0m\u001b[0;34m)\u001b[0m\u001b[0;34m\u001b[0m\u001b[0;34m\u001b[0m\u001b[0m\n\u001b[0m\u001b[1;32m    295\u001b[0m             )\n\u001b[1;32m    296\u001b[0m         \u001b[0maxes\u001b[0m \u001b[0;34m=\u001b[0m \u001b[0mself\u001b[0m\u001b[0;34m.\u001b[0m\u001b[0maxes\u001b[0m\u001b[0;34m\u001b[0m\u001b[0;34m\u001b[0m\u001b[0m\n",
      "\u001b[0;31mNotImplementedError\u001b[0m: Cannot apply ufunc <ufunc 'z_from_p'> to mixed DataFrame and Series inputs."
     ]
    }
   ],
   "source": [
    "dba_file = os.path.join(dba_files.iloc[0].path, dba_files.iloc[0].file)\n",
    "dba, pro_meta = load_slocum_dba(dba_file)"
   ]
  }
 ],
 "metadata": {
  "environment": {
   "name": "common-cpu.m76",
   "type": "gcloud",
   "uri": "gcr.io/deeplearning-platform-release/base-cpu:m76"
  },
  "kernelspec": {
   "display_name": "Python 3",
   "language": "python",
   "name": "python3"
  },
  "language_info": {
   "codemirror_mode": {
    "name": "ipython",
    "version": 3
   },
   "file_extension": ".py",
   "mimetype": "text/x-python",
   "name": "python",
   "nbconvert_exporter": "python",
   "pygments_lexer": "ipython3",
   "version": "3.7.10"
  }
 },
 "nbformat": 4,
 "nbformat_minor": 5
}
