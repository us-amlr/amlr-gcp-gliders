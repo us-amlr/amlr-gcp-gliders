{
 "cells": [
  {
   "cell_type": "markdown",
   "id": "06043dcd",
   "metadata": {},
   "source": [
    "# Raw glider data processing"
   ]
  },
  {
   "cell_type": "markdown",
   "id": "e05e3020",
   "metadata": {},
   "source": [
    "This notebook assumes that 'Cache_processing.ipynb' has already been run, and thus all cache file filenames are lowercase"
   ]
  },
  {
   "cell_type": "code",
   "execution_count": 1,
   "id": "7615f3d4",
   "metadata": {},
   "outputs": [],
   "source": [
    "import time\n",
    "import os"
   ]
  },
  {
   "cell_type": "markdown",
   "id": "91bf7c61",
   "metadata": {},
   "source": [
    "First we mount the bucket"
   ]
  },
  {
   "cell_type": "code",
   "execution_count": 8,
   "id": "1531da15",
   "metadata": {},
   "outputs": [
    {
     "data": {
      "text/plain": [
       "0"
      ]
     },
     "execution_count": 8,
     "metadata": {},
     "output_type": "execute_result"
    }
   ],
   "source": [
    "os.system(\"gcsfuse --implicit-dirs amlr-gliders-binary /home/jupyter/gliders-binary-bucket/\")\n",
    "os.system(\"gcsfuse --implicit-dirs amlr-gliders-ascii /home/jupyter/gliders-ascii-bucket/\")"
   ]
  },
  {
   "cell_type": "markdown",
   "id": "441ba5d1",
   "metadata": {},
   "source": [
    "Set the Folder name; preview command to be run"
   ]
  },
  {
   "cell_type": "code",
   "execution_count": 6,
   "id": "91f85e31",
   "metadata": {},
   "outputs": [
    {
     "data": {
      "text/plain": [
       "'/home/jupyter/amlr-gcp-gliders/processDbds_usamlr.sh /home/jupyter/amlr-gliders-binary-bucket/2021_07_SanDiego /home/jupyter/amlr-gliders-ascii-bucket/2021_07_SanDiego'"
      ]
     },
     "execution_count": 6,
     "metadata": {},
     "output_type": "execute_result"
    }
   ],
   "source": [
    "folder_name = \"2021_07_SanDiego\"\n",
    "sys_command = \"/home/jupyter/amlr-gcp-gliders/processDbds_usamlr.sh /home/jupyter/gliders-binary-bucket/\" + folder_name + \" /home/jupyter/gliders-ascii-bucket/\" + folder_name\n",
    "sys_command"
   ]
  },
  {
   "cell_type": "code",
   "execution_count": 7,
   "id": "3b9476c4",
   "metadata": {},
   "outputs": [
    {
     "name": "stdout",
     "output_type": "stream",
     "text": [
      "0.01735973358154297\n"
     ]
    }
   ],
   "source": [
    "start = time.time()\n",
    "os.system(sys_command)\n",
    "end = time.time()\n",
    "print(end - start)"
   ]
  }
 ],
 "metadata": {
  "environment": {
   "name": "common-cpu.m76",
   "type": "gcloud",
   "uri": "gcr.io/deeplearning-platform-release/base-cpu:m76"
  },
  "kernelspec": {
   "display_name": "Python 3",
   "language": "python",
   "name": "python3"
  },
  "language_info": {
   "codemirror_mode": {
    "name": "ipython",
    "version": 3
   },
   "file_extension": ".py",
   "mimetype": "text/x-python",
   "name": "python",
   "nbconvert_exporter": "python",
   "pygments_lexer": "ipython3",
   "version": "3.7.10"
  }
 },
 "nbformat": 4,
 "nbformat_minor": 5
}
