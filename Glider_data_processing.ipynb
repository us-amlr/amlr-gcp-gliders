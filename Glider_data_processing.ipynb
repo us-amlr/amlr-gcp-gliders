{
 "cells": [
  {
   "cell_type": "markdown",
   "id": "5fa38c8b",
   "metadata": {},
   "source": [
    "# Raw glider data processing"
   ]
  },
  {
   "cell_type": "markdown",
   "id": "435a3845",
   "metadata": {},
   "source": [
    "This notebook assumes that 'Cache_processing.ipynb' has already been run, and thus all cache file filenames are lowercase"
   ]
  }
 ],
 "metadata": {
  "environment": {
   "name": "common-cpu.m76",
   "type": "gcloud",
   "uri": "gcr.io/deeplearning-platform-release/base-cpu:m76"
  },
  "kernelspec": {
   "display_name": "Python 3",
   "language": "python",
   "name": "python3"
  },
  "language_info": {
   "codemirror_mode": {
    "name": "ipython",
    "version": 3
   },
   "file_extension": ".py",
   "mimetype": "text/x-python",
   "name": "python",
   "nbconvert_exporter": "python",
   "pygments_lexer": "ipython3",
   "version": "3.7.10"
  }
 },
 "nbformat": 4,
 "nbformat_minor": 5
}
