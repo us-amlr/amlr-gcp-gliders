{
 "cells": [
  {
   "cell_type": "markdown",
   "id": "7be7b15c",
   "metadata": {},
   "source": [
    "# Make .cac files lowercase"
   ]
  },
  {
   "cell_type": "markdown",
   "id": "016cf598",
   "metadata": {},
   "source": [
    "This script makes sure that all cache files are lowercase.\n",
    "\n",
    "Sam TODO: do this directly in the bucket using pubsub"
   ]
  },
  {
   "cell_type": "code",
   "execution_count": 1,
   "id": "705659ba",
   "metadata": {},
   "outputs": [],
   "source": [
    "import os"
   ]
  },
  {
   "cell_type": "code",
   "execution_count": 3,
   "id": "42fc3212",
   "metadata": {},
   "outputs": [
    {
     "name": "stdout",
     "output_type": "stream",
     "text": [
      "2021/09/24 02:18:19.527043 Using mount point: /home/jupyter/gliders-cache-bucket\n",
      "2021/09/24 02:18:19.537369 Opening GCS connection...\n",
      "2021/09/24 02:18:19.629393 Mounting file system \"amlr-gliders-cache\"...\n"
     ]
    },
    {
     "data": {
      "text/plain": [
       "0"
      ]
     },
     "execution_count": 3,
     "metadata": {},
     "output_type": "execute_result"
    },
    {
     "name": "stdout",
     "output_type": "stream",
     "text": [
      "2021/09/24 02:18:19.673553 File system has been successfully mounted.\n"
     ]
    }
   ],
   "source": [
    "os.system(\"gcsfuse --implicit-dirs amlr-gliders-cache /home/jupyter/gliders-cache-bucket/\")"
   ]
  },
  {
   "cell_type": "markdown",
   "id": "7307594e",
   "metadata": {},
   "source": [
    "Create .cac files with lowercase file names..."
   ]
  },
  {
   "cell_type": "code",
   "execution_count": 6,
   "id": "dd449f38",
   "metadata": {},
   "outputs": [
    {
     "name": "stdout",
     "output_type": "stream",
     "text": [
      "Writing /home/jupyter/gliders-cache-bucket/307ef85e.cac\n",
      "Writing /home/jupyter/gliders-cache-bucket/7d72323c.cac\n",
      "Writing /home/jupyter/gliders-cache-bucket/92df5c5a.cac\n"
     ]
    },
    {
     "data": {
      "text/plain": [
       "0"
      ]
     },
     "execution_count": 6,
     "metadata": {},
     "output_type": "execute_result"
    }
   ],
   "source": [
    "os.system(\"/home/jupyter/slocum/bin2ascii/cac2lower.sh /home/jupyter/gliders-cache-bucket/*\")"
   ]
  },
  {
   "cell_type": "markdown",
   "id": "e76c7b5d",
   "metadata": {},
   "source": [
    "...and delete .CAC files"
   ]
  },
  {
   "cell_type": "code",
   "execution_count": 8,
   "id": "268c5e79",
   "metadata": {},
   "outputs": [
    {
     "data": {
      "text/plain": [
       "0"
      ]
     },
     "execution_count": 8,
     "metadata": {},
     "output_type": "execute_result"
    }
   ],
   "source": [
    "os.system(\"find /home/jupyter/gliders-cache-bucket -name '*.CAC' -delete\")"
   ]
  },
  {
   "cell_type": "markdown",
   "id": "74152aaf",
   "metadata": {},
   "source": [
    "Finally we unmount the binary bucket"
   ]
  },
  {
   "cell_type": "code",
   "execution_count": 9,
   "id": "739a64bd",
   "metadata": {},
   "outputs": [
    {
     "data": {
      "text/plain": [
       "0"
      ]
     },
     "execution_count": 9,
     "metadata": {},
     "output_type": "execute_result"
    }
   ],
   "source": [
    "os.system(\"fusermount -u /home/jupyter/gliders-cache-bucket\")"
   ]
  }
 ],
 "metadata": {
  "environment": {
   "name": "common-cpu.m80",
   "type": "gcloud",
   "uri": "gcr.io/deeplearning-platform-release/base-cpu:m80"
  },
  "kernelspec": {
   "display_name": "Python 3",
   "language": "python",
   "name": "python3"
  },
  "language_info": {
   "codemirror_mode": {
    "name": "ipython",
    "version": 3
   },
   "file_extension": ".py",
   "mimetype": "text/x-python",
   "name": "python",
   "nbconvert_exporter": "python",
   "pygments_lexer": "ipython3",
   "version": "3.7.10"
  }
 },
 "nbformat": 4,
 "nbformat_minor": 5
}
