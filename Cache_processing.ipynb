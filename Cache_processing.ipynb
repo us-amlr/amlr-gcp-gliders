{
 "cells": [
  {
   "cell_type": "markdown",
   "id": "cbcf3719",
   "metadata": {},
   "source": [
    "# Make .cac files lowercase"
   ]
  },
  {
   "cell_type": "markdown",
   "id": "ec907199",
   "metadata": {},
   "source": [
    "This script makes sure that all cache files are lowercase.\n",
    "\n",
    "TODO: do this directly in the bucket using pubsub"
   ]
  },
  {
   "cell_type": "code",
   "execution_count": 2,
   "id": "98f96e71",
   "metadata": {},
   "outputs": [],
   "source": [
    "import os"
   ]
  },
  {
   "cell_type": "code",
   "execution_count": 6,
   "id": "f1fc8066",
   "metadata": {},
   "outputs": [
    {
     "data": {
      "text/plain": [
       "0"
      ]
     },
     "execution_count": 6,
     "metadata": {},
     "output_type": "execute_result"
    }
   ],
   "source": [
    "os.system(\"gcsfuse --implicit-dirs amlr-gliders-raw amlr-gliders-raw-bucket/\")"
   ]
  },
  {
   "cell_type": "markdown",
   "id": "631c4263",
   "metadata": {},
   "source": [
    "Create .cac files with lowercase file names..."
   ]
  },
  {
   "cell_type": "code",
   "execution_count": 12,
   "id": "e42b898f",
   "metadata": {},
   "outputs": [
    {
     "data": {
      "text/plain": [
       "0"
      ]
     },
     "execution_count": 12,
     "metadata": {},
     "output_type": "execute_result"
    }
   ],
   "source": [
    "os.system(\"/home/jupyter/slocum/bin2ascii/cac2lower.sh /home/jupyter/amlr-gliders-raw-bucket/cache/*\")"
   ]
  },
  {
   "cell_type": "markdown",
   "id": "795df3d0",
   "metadata": {},
   "source": [
    "...and delete .CAC files"
   ]
  },
  {
   "cell_type": "code",
   "execution_count": 13,
   "id": "cfdbae9b",
   "metadata": {},
   "outputs": [
    {
     "data": {
      "text/plain": [
       "0"
      ]
     },
     "execution_count": 13,
     "metadata": {},
     "output_type": "execute_result"
    }
   ],
   "source": [
    "os.system(\"find /home/jupyter/amlr-gliders-raw-bucket/cache -name '*.CAC' -delete\")"
   ]
  }
 ],
 "metadata": {
  "environment": {
   "name": "common-cpu.m76",
   "type": "gcloud",
   "uri": "gcr.io/deeplearning-platform-release/base-cpu:m76"
  },
  "kernelspec": {
   "display_name": "Python 3",
   "language": "python",
   "name": "python3"
  },
  "language_info": {
   "codemirror_mode": {
    "name": "ipython",
    "version": 3
   },
   "file_extension": ".py",
   "mimetype": "text/x-python",
   "name": "python",
   "nbconvert_exporter": "python",
   "pygments_lexer": "ipython3",
   "version": "3.7.10"
  }
 },
 "nbformat": 4,
 "nbformat_minor": 5
}
