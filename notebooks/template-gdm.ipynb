{
 "cells": [
  {
   "cell_type": "markdown",
   "id": "7f4c6073-a8da-4754-984e-40060274de44",
   "metadata": {},
   "source": [
    "# Glider data processing - glider-YYYYmmdd"
   ]
  },
  {
   "cell_type": "code",
   "execution_count": null,
   "id": "bdc51f91-836b-477e-85f7-ab3646fb02f6",
   "metadata": {},
   "outputs": [],
   "source": [
    "import sys\n",
    "import multiprocessing as mp\n",
    "\n",
    "sys.path.append(\"/home/jupyter/amlr-gliders\")\n",
    "from amlr_gdm import amlr_gdm"
   ]
  },
  {
   "cell_type": "markdown",
   "id": "02832c5d-afaa-4d2e-be12-706dc01940be",
   "metadata": {},
   "source": [
    "Set variables"
   ]
  },
  {
   "cell_type": "code",
   "execution_count": null,
   "id": "926cb868-adf9-432a-ae4b-06df3465a4c6",
   "metadata": {},
   "outputs": [],
   "source": [
    "project = 'SANDIEGO'\n",
    "deployment = 'glider-YYYYmmdd'\n",
    "mode = 'delayed'"
   ]
  },
  {
   "cell_type": "code",
   "execution_count": null,
   "id": "c24a8cc2-436d-4ffe-888a-3f21440f2dbd",
   "metadata": {},
   "outputs": [],
   "source": [
    "num_cores = mp.cpu_count() - 1\n",
    "print(num_cores)"
   ]
  },
  {
   "cell_type": "code",
   "execution_count": null,
   "id": "b15ab68e-d3bd-40f5-8668-79710d283f3d",
   "metadata": {},
   "outputs": [],
   "source": [
    "amlr_gdm(project, deployment, mode, num_cores=num_cores, \n",
    "         gdm_path = '/home/jupyter/gdm'\n",
    "         load_from_tmp = False, remove_19700101 = True, \n",
    "         save_trajectory = True, save_ngdac = False)"
   ]
  }
 ],
 "metadata": {
  "environment": {
   "name": "tf2-gpu.2-6.m81",
   "type": "gcloud",
   "uri": "gcr.io/deeplearning-platform-release/tf2-gpu.2-6:m81"
  },
  "kernelspec": {
   "display_name": "Python 3",
   "language": "python",
   "name": "python3"
  },
  "language_info": {
   "codemirror_mode": {
    "name": "ipython",
    "version": 3
   },
   "file_extension": ".py",
   "mimetype": "text/x-python",
   "name": "python",
   "nbconvert_exporter": "python",
   "pygments_lexer": "ipython3",
   "version": "3.7.10"
  }
 },
 "nbformat": 4,
 "nbformat_minor": 5
}
