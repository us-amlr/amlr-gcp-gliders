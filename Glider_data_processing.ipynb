{
 "cells": [
  {
   "cell_type": "markdown",
   "id": "78d691b9",
   "metadata": {},
   "source": [
    "# Raw glider data processing"
   ]
  },
  {
   "cell_type": "markdown",
   "id": "85fd8ca9",
   "metadata": {},
   "source": [
    "This notebook assumes that 'Cache_processing.ipynb' has already been run, and thus all cache file filenames are lowercase"
   ]
  },
  {
   "cell_type": "code",
   "execution_count": 1,
   "id": "6cd6984b",
   "metadata": {},
   "outputs": [],
   "source": [
    "import time\n",
    "import os"
   ]
  },
  {
   "cell_type": "markdown",
   "id": "bc7f108f",
   "metadata": {},
   "source": [
    "First we mount the bucket"
   ]
  },
  {
   "cell_type": "code",
   "execution_count": 2,
   "id": "0ba28c77",
   "metadata": {},
   "outputs": [
    {
     "data": {
      "text/plain": [
       "0"
      ]
     },
     "execution_count": 2,
     "metadata": {},
     "output_type": "execute_result"
    }
   ],
   "source": [
    "os.system(\"gcsfuse --implicit-dirs amlr-gliders-binary /home/jupyter/gliders-binary-bucket/\")\n",
    "os.system(\"gcsfuse --implicit-dirs amlr-gliders-ascii /home/jupyter/gliders-ascii-bucket/\")"
   ]
  },
  {
   "cell_type": "markdown",
   "id": "78d3b6c5",
   "metadata": {},
   "source": [
    "Set the Folder name; preview command to be run"
   ]
  },
  {
   "cell_type": "code",
   "execution_count": 3,
   "id": "9dfe68ed",
   "metadata": {},
   "outputs": [
    {
     "data": {
      "text/plain": [
       "'/home/jupyter/amlr-gcp-gliders/processDbds_usamlr.sh -c /home/jupyter/gliders-binary-bucket/cache /home/jupyter/gliders-binary-bucket/2021_07_SanDiego /home/jupyter/gliders-ascii-bucket/2021_07_SanDiego'"
      ]
     },
     "execution_count": 3,
     "metadata": {},
     "output_type": "execute_result"
    }
   ],
   "source": [
    "folder_name = \"2021_07_SanDiego\"\n",
    "sys_command = \"/home/jupyter/amlr-gcp-gliders/processDbds_usamlr.sh -c /home/jupyter/gliders-binary-bucket/cache /home/jupyter/gliders-binary-bucket/\" + folder_name + \" /home/jupyter/gliders-ascii-bucket/\" + folder_name\n",
    "sys_command"
   ]
  },
  {
   "cell_type": "code",
   "execution_count": null,
   "id": "69545f41",
   "metadata": {},
   "outputs": [],
   "source": [
    "start = time.time()\n",
    "os.system(sys_command)\n",
    "end = time.time()\n",
    "print(end - start)"
   ]
  }
 ],
 "metadata": {
  "environment": {
   "name": "common-cpu.m76",
   "type": "gcloud",
   "uri": "gcr.io/deeplearning-platform-release/base-cpu:m76"
  },
  "kernelspec": {
   "display_name": "Python 3",
   "language": "python",
   "name": "python3"
  },
  "language_info": {
   "codemirror_mode": {
    "name": "ipython",
    "version": 3
   },
   "file_extension": ".py",
   "mimetype": "text/x-python",
   "name": "python",
   "nbconvert_exporter": "python",
   "pygments_lexer": "ipython3",
   "version": "3.7.10"
  }
 },
 "nbformat": 4,
 "nbformat_minor": 5
}
