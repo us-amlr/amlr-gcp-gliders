{
 "cells": [
  {
   "cell_type": "markdown",
   "id": "85671e59",
   "metadata": {},
   "source": [
    "# Raw glider data processing"
   ]
  },
  {
   "cell_type": "markdown",
   "id": "57431905",
   "metadata": {},
   "source": [
    "This notebook assumes that 'Cache_processing.ipynb' has already been run, and thus all cache file filenames are lowercase"
   ]
  },
  {
   "cell_type": "code",
   "execution_count": 4,
   "id": "7c476f26",
   "metadata": {},
   "outputs": [],
   "source": [
    "import time\n",
    "import os"
   ]
  },
  {
   "cell_type": "markdown",
   "id": "c404efbc",
   "metadata": {},
   "source": [
    "### File and path prep work"
   ]
  },
  {
   "cell_type": "markdown",
   "id": "cc99d341",
   "metadata": {},
   "source": [
    "First we mount the binary and ascii file buckets. A return value of '0' means that the command executed successfully"
   ]
  },
  {
   "cell_type": "code",
   "execution_count": 9,
   "id": "56df2e0e",
   "metadata": {},
   "outputs": [
    {
     "data": {
      "text/plain": [
       "0"
      ]
     },
     "execution_count": 9,
     "metadata": {},
     "output_type": "execute_result"
    }
   ],
   "source": [
    "os.system(\"gcsfuse --implicit-dirs amlr-gliders-binary /home/jupyter/gliders-binary-bucket/\")\n",
    "os.system(\"gcsfuse --implicit-dirs amlr-gliders-ascii /home/jupyter/gliders-ascii-bucket/\")"
   ]
  },
  {
   "cell_type": "markdown",
   "id": "aebd14e6",
   "metadata": {},
   "source": [
    "Set the path/name of the folder in the amlr-gliders-binary bucket that contains the binary files you want to convert to ASCII"
   ]
  },
  {
   "cell_type": "code",
   "execution_count": 3,
   "id": "1bf675a2",
   "metadata": {},
   "outputs": [
    {
     "name": "stdout",
     "output_type": "stream",
     "text": [
      "2021_07_SanDiego\n",
      "cache\n"
     ]
    }
   ],
   "source": [
    "# Directories in amlr-gliders-binary folder\n",
    "print(\"\\n\".join([f for f in os.listdir(\"/home/jupyter/gliders-binary-bucket\") if not f.startswith('.')]))"
   ]
  },
  {
   "cell_type": "code",
   "execution_count": 4,
   "id": "1181d647",
   "metadata": {},
   "outputs": [],
   "source": [
    "folder_name = \"2021_07_SanDiego\""
   ]
  },
  {
   "cell_type": "markdown",
   "id": "840f1dc7",
   "metadata": {},
   "source": [
    "This code creates an equivalent directory in the amlr-gliders-ascii bucket, if necessary. We also preview the command being run below."
   ]
  },
  {
   "cell_type": "code",
   "execution_count": 5,
   "id": "6799fdd6",
   "metadata": {},
   "outputs": [
    {
     "name": "stdout",
     "output_type": "stream",
     "text": [
      "Making new directory 2021_07_SanDiego at '/home/jupyter/gliders-ascii-bucket/'\n"
     ]
    },
    {
     "data": {
      "text/plain": [
       "'/home/jupyter/amlr-gcp-gliders/processDbds_usamlr.sh -c /home/jupyter/gliders-binary-bucket/cache /home/jupyter/gliders-binary-bucket/2021_07_SanDiego /home/jupyter/gliders-ascii-bucket/2021_07_SanDiego'"
      ]
     },
     "execution_count": 5,
     "metadata": {},
     "output_type": "execute_result"
    }
   ],
   "source": [
    "path_base_ascii = \"/home/jupyter/gliders-ascii-bucket\"\n",
    "path = os.path.join(path_base_ascii, folder_name)\n",
    "\n",
    "# Make folder in ascii bucket if necessary\n",
    "if not os.path.isdir(path):\n",
    "    print(f\"Making new directory {folder_name} at '{path_base_ascii}/'\")\n",
    "    os.mkdir(path)\n",
    "else:\n",
    "    print(\"Did not need to make new directory\")\n",
    "    \n",
    "# Concatenate command\n",
    "sys_command = \"/home/jupyter/amlr-gcp-gliders/processDbds_usamlr.sh \" + \\\n",
    "    \"-c /home/jupyter/gliders-binary-bucket/cache \" + \\\n",
    "    os.path.join(\"/home/jupyter/gliders-binary-bucket\", folder_name) + \" \" + \\\n",
    "    os.path.join(path_base_ascii, folder_name)\n",
    "sys_command"
   ]
  },
  {
   "cell_type": "markdown",
   "id": "76b3b9af",
   "metadata": {},
   "source": [
    "### Run kerfoot's processing script"
   ]
  },
  {
   "cell_type": "markdown",
   "id": "69134678",
   "metadata": {},
   "source": [
    "Print out the runtime, in seconds"
   ]
  },
  {
   "cell_type": "code",
   "execution_count": 6,
   "id": "2e8f099e",
   "metadata": {},
   "outputs": [
    {
     "name": "stdout",
     "output_type": "stream",
     "text": [
      "494.53823590278625\n"
     ]
    }
   ],
   "source": [
    "start = time.time()\n",
    "print(\"starting run\")\n",
    "os.system(sys_command)\n",
    "end = time.time()\n",
    "print(end - start)"
   ]
  },
  {
   "cell_type": "markdown",
   "id": "373fbcfe",
   "metadata": {},
   "source": [
    "### Cleanup"
   ]
  },
  {
   "cell_type": "markdown",
   "id": "e144595d",
   "metadata": {},
   "source": [
    "Unmount buckets"
   ]
  },
  {
   "cell_type": "code",
   "execution_count": 10,
   "id": "28545944",
   "metadata": {},
   "outputs": [
    {
     "data": {
      "text/plain": [
       "0"
      ]
     },
     "execution_count": 10,
     "metadata": {},
     "output_type": "execute_result"
    }
   ],
   "source": [
    "os.system(\"fusermount -u /home/jupyter/gliders-binary-bucket\")\n",
    "os.system(\"fusermount -u /home/jupyter/gliders-ascii-bucket\")"
   ]
  }
 ],
 "metadata": {
  "environment": {
   "name": "common-cpu.m76",
   "type": "gcloud",
   "uri": "gcr.io/deeplearning-platform-release/base-cpu:m76"
  },
  "kernelspec": {
   "display_name": "Python 3",
   "language": "python",
   "name": "python3"
  },
  "language_info": {
   "codemirror_mode": {
    "name": "ipython",
    "version": 3
   },
   "file_extension": ".py",
   "mimetype": "text/x-python",
   "name": "python",
   "nbconvert_exporter": "python",
   "pygments_lexer": "ipython3",
   "version": "3.7.10"
  }
 },
 "nbformat": 4,
 "nbformat_minor": 5
}
