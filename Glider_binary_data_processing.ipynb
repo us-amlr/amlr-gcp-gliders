{
 "cells": [
  {
   "cell_type": "markdown",
   "id": "a90c096a",
   "metadata": {},
   "source": [
    "# Raw glider data processing"
   ]
  },
  {
   "cell_type": "markdown",
   "id": "648f7e03",
   "metadata": {},
   "source": [
    "This notebook assumes that 'Cache_processing.ipynb' has already been run, and thus all cache file filenames are lowercase"
   ]
  },
  {
   "cell_type": "code",
   "execution_count": null,
   "id": "623e3906",
   "metadata": {},
   "outputs": [],
   "source": [
    "import time\n",
    "import os"
   ]
  },
  {
   "cell_type": "markdown",
   "id": "d292c318",
   "metadata": {},
   "source": [
    "### File and path prep work"
   ]
  },
  {
   "cell_type": "markdown",
   "id": "e131b160",
   "metadata": {},
   "source": [
    "First we mount the binary and ascii file buckets. A return value of '0' means that the command executed successfully"
   ]
  },
  {
   "cell_type": "code",
   "execution_count": null,
   "id": "f866da95",
   "metadata": {},
   "outputs": [],
   "source": [
    "os.system(\"gcsfuse --implicit-dirs amlr-gliders-binary /home/jupyter/gliders-binary-bucket/\")\n",
    "os.system(\"gcsfuse --implicit-dirs amlr-gliders-ascii /home/jupyter/gliders-ascii-bucket/\")"
   ]
  },
  {
   "cell_type": "markdown",
   "id": "e3fa4f18",
   "metadata": {},
   "source": [
    "Set the path/name of the folder in the amlr-gliders-binary bucket that contains the binary files you want to convert to ASCII"
   ]
  },
  {
   "cell_type": "code",
   "execution_count": null,
   "id": "82be29a9",
   "metadata": {},
   "outputs": [],
   "source": [
    "# Directories in amlr-gliders-binary folder\n",
    "print(\"\\n\".join([f for f in os.listdir(\"/home/jupyter/gliders-binary-bucket\") if not f.startswith('.')]))"
   ]
  },
  {
   "cell_type": "markdown",
   "id": "c5e1a498",
   "metadata": {},
   "source": [
    "**USER TODO:** change this folder name as necessary. See the above line for folders in the binary glider data bucket"
   ]
  },
  {
   "cell_type": "code",
   "execution_count": null,
   "id": "673c95af",
   "metadata": {},
   "outputs": [],
   "source": [
    "folder_name = \"amlr01-201819-freebyrd\""
   ]
  },
  {
   "cell_type": "markdown",
   "id": "ecdfd007",
   "metadata": {},
   "source": [
    "This code creates an equivalent directory in the amlr-gliders-ascii bucket, if necessary. We also preview the command being run below."
   ]
  },
  {
   "cell_type": "code",
   "execution_count": null,
   "id": "05a14dbc",
   "metadata": {},
   "outputs": [],
   "source": [
    "path_base_ascii = \"/home/jupyter/gliders-ascii-bucket\"\n",
    "path = os.path.join(path_base_ascii, folder_name)\n",
    "\n",
    "# Make folder in ascii bucket if necessary\n",
    "if not os.path.isdir(path):\n",
    "    print(f\"Making new directory {folder_name} at '{path_base_ascii}/'\")\n",
    "    os.mkdir(path)\n",
    "else:\n",
    "    print(\"Did not need to make new directory\")\n",
    "    \n",
    "# Concatenate command\n",
    "sys_command = \"/home/jupyter/amlr-gcp-gliders/processDbds_usamlr.sh \" + \\\n",
    "    \"-c /home/jupyter/gliders-binary-bucket/cache \" + \\\n",
    "    os.path.join(\"/home/jupyter/gliders-binary-bucket\", folder_name) + \" \" + \\\n",
    "    os.path.join(path_base_ascii, folder_name)\n",
    "print(\"bash command to be run:\")\n",
    "print(sys_command)"
   ]
  },
  {
   "cell_type": "markdown",
   "id": "e92394bd",
   "metadata": {},
   "source": [
    "### Run kerfoot's processing script"
   ]
  },
  {
   "cell_type": "markdown",
   "id": "b94546bf",
   "metadata": {},
   "source": [
    "Print out the runtime, in seconds"
   ]
  },
  {
   "cell_type": "code",
   "execution_count": null,
   "id": "2095f684",
   "metadata": {},
   "outputs": [],
   "source": [
    "start = time.time()\n",
    "print(\"Starting run\")\n",
    "os.system(sys_command)\n",
    "end = time.time()\n",
    "print(\"Binary files successfully converted to ASCII files in \" + str(round(end - start, 2)) + \" seconds\")"
   ]
  },
  {
   "cell_type": "markdown",
   "id": "48e6a11e",
   "metadata": {},
   "source": [
    "### Cleanup and shutdown"
   ]
  },
  {
   "cell_type": "markdown",
   "id": "fccccb33",
   "metadata": {},
   "source": [
    "Unmount buckets"
   ]
  },
  {
   "cell_type": "code",
   "execution_count": null,
   "id": "c9537408",
   "metadata": {},
   "outputs": [],
   "source": [
    "os.system(\"fusermount -u /home/jupyter/gliders-binary-bucket\")\n",
    "os.system(\"fusermount -u /home/jupyter/gliders-ascii-bucket\")"
   ]
  },
  {
   "cell_type": "markdown",
   "id": "0feae771",
   "metadata": {},
   "source": [
    "Shut down the VM. Note that this will not close this window, and once the notebook is shut down you will get errors if you try to edit this notebook. Also note that you must keep your computer on and this tab open for the notebook to run."
   ]
  },
  {
   "cell_type": "code",
   "execution_count": null,
   "id": "9ea8836f",
   "metadata": {},
   "outputs": [],
   "source": [
    "os.system(\"sudo poweroff\")"
   ]
  }
 ],
 "metadata": {
  "environment": {
   "name": "common-cpu.m78",
   "type": "gcloud",
   "uri": "gcr.io/deeplearning-platform-release/base-cpu:m78"
  },
  "kernelspec": {
   "display_name": "Python 3",
   "language": "python",
   "name": "python3"
  },
  "language_info": {
   "codemirror_mode": {
    "name": "ipython",
    "version": 3
   },
   "file_extension": ".py",
   "mimetype": "text/x-python",
   "name": "python",
   "nbconvert_exporter": "python",
   "pygments_lexer": "ipython3",
   "version": "3.7.10"
  }
 },
 "nbformat": 4,
 "nbformat_minor": 5
}
