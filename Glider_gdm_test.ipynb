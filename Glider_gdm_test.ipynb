{
 "cells": [
  {
   "cell_type": "markdown",
   "id": "7b185f72",
   "metadata": {},
   "source": [
    "# Use Kerfoot's GDM toolbox to process AMLR glider DBA files"
   ]
  },
  {
   "cell_type": "markdown",
   "id": "fd8d6494",
   "metadata": {},
   "source": [
    "Import libraries, including gdm (cloned from https://github.com/kerfoot/gdm)"
   ]
  },
  {
   "cell_type": "code",
   "execution_count": null,
   "id": "2168157a",
   "metadata": {},
   "outputs": [],
   "source": [
    "# Would like for this to work int he startup script, not sure why it isn't.\n",
    "# Must be run the first time this Notebook is run after the VM is created\n",
    "%pip install xarray netCDF4 shapely gsw"
   ]
  },
  {
   "cell_type": "code",
   "execution_count": null,
   "id": "4fc0eb7f",
   "metadata": {},
   "outputs": [],
   "source": [
    "import os\n",
    "import sys\n",
    "sys.path.append(\"/home/jupyter/gdm\")"
   ]
  },
  {
   "cell_type": "code",
   "execution_count": null,
   "id": "671a1fe7",
   "metadata": {},
   "outputs": [],
   "source": [
    "from gdm import GliderDataModel\n",
    "from gdm.gliders.slocum import get_dbas, load_slocum_dba"
   ]
  },
  {
   "cell_type": "markdown",
   "id": "70e82f40",
   "metadata": {},
   "source": [
    "Create an instance of the GliderDataModel Class"
   ]
  },
  {
   "cell_type": "code",
   "execution_count": null,
   "id": "14ebeb74",
   "metadata": {},
   "outputs": [],
   "source": [
    "config_path = '/home/jupyter/gdm/tests/datasets/ru16-20110810T1330/config'\n",
    "gdm = GliderDataModel(config_path)"
   ]
  },
  {
   "cell_type": "code",
   "execution_count": null,
   "id": "8374f575",
   "metadata": {},
   "outputs": [],
   "source": [
    "gdm"
   ]
  },
  {
   "cell_type": "markdown",
   "id": "d608802d",
   "metadata": {},
   "source": [
    "List all dba files in specified directory"
   ]
  },
  {
   "cell_type": "code",
   "execution_count": null,
   "id": "282855a1",
   "metadata": {},
   "outputs": [],
   "source": [
    "dba_path = '/home/jupyter/gdm/tests/datasets/ru16-20110810T1330/dba'\n",
    "dba_files = get_dbas(dba_path)\n",
    "dba_files.info()"
   ]
  },
  {
   "cell_type": "code",
   "execution_count": null,
   "id": "5a2854a7",
   "metadata": {},
   "outputs": [],
   "source": [
    "dba_files.iloc[0]"
   ]
  },
  {
   "cell_type": "code",
   "execution_count": null,
   "id": "0554b6b7",
   "metadata": {},
   "outputs": [],
   "source": [
    "dba_file = os.path.join(dba_files.iloc[0].path, dba_files.iloc[0].file)\n",
    "dba, pro_meta = load_slocum_dba(dba_file)"
   ]
  }
 ],
 "metadata": {
  "environment": {
   "name": "common-cpu.m76",
   "type": "gcloud",
   "uri": "gcr.io/deeplearning-platform-release/base-cpu:m76"
  },
  "kernelspec": {
   "display_name": "Python 3",
   "language": "python",
   "name": "python3"
  },
  "language_info": {
   "codemirror_mode": {
    "name": "ipython",
    "version": 3
   },
   "file_extension": ".py",
   "mimetype": "text/x-python",
   "name": "python",
   "nbconvert_exporter": "python",
   "pygments_lexer": "ipython3",
   "version": "3.7.10"
  }
 },
 "nbformat": 4,
 "nbformat_minor": 5
}
