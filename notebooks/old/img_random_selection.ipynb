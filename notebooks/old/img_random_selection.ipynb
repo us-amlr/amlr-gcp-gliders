{
 "cells": [
  {
   "cell_type": "markdown",
   "id": "405f601c-5c30-4a55-baab-66ce69bb3223",
   "metadata": {},
   "source": [
    "# Image select"
   ]
  },
  {
   "cell_type": "markdown",
   "id": "1521e073-5538-4ae8-a358-534e2ab92682",
   "metadata": {},
   "source": [
    "Randomly select n_images images, for each of n_folders folders, from an image directory. Set relevant variables:"
   ]
  },
  {
   "cell_type": "code",
   "execution_count": 1,
   "id": "217ce3e5-a7c9-478c-8d4c-8db00a8b6427",
   "metadata": {},
   "outputs": [],
   "source": [
    "n_images = 200\n",
    "n_folders = 3\n",
    "image_type = \"train\" #train or test\n",
    "\n",
    "bucket_name = 'amlr-imagery-viame-dev'\n",
    "deployment = \"amlr08-20220513\"\n",
    "\n",
    "path_full_deployment = f'glider/SANDIEGO/2022/{deployment}-shadowgraph'\n",
    "bucket_path_out = f'{bucket_name}/viame-projects/shadowgraph/{image_type}'"
   ]
  },
  {
   "cell_type": "markdown",
   "id": "60a70671-d0f3-45fb-b8b2-619acdd81a29",
   "metadata": {},
   "source": [
    "## Processing"
   ]
  },
  {
   "cell_type": "markdown",
   "id": "515625a8-9106-454d-a4da-e90b39c61ab7",
   "metadata": {},
   "source": [
    "Prep, and list all .jpg files in specified bucket path"
   ]
  },
  {
   "cell_type": "code",
   "execution_count": 2,
   "id": "091c40bd-f63c-45b1-9a13-de9b8e063eae",
   "metadata": {},
   "outputs": [],
   "source": [
    "from google.cloud import storage\n",
    "import random\n",
    "import subprocess \n",
    "\n",
    "client = storage.Client()\n",
    "n = n_images * n_folders\n",
    "\n",
    "blobs = client.list_blobs(bucket_name, prefix = path_full_deployment)\n",
    "file_name_list = [x.name for x in blobs if '.jpg' in x.name]"
   ]
  },
  {
   "cell_type": "markdown",
   "id": "046b5533-034b-433e-9c16-a5397151781d",
   "metadata": {},
   "source": [
    "Explore the files that were identified"
   ]
  },
  {
   "cell_type": "code",
   "execution_count": 3,
   "id": "97382796-27cf-402e-b377-5ecbf1dfa084",
   "metadata": {},
   "outputs": [],
   "source": [
    "# len(file_name_list)\n",
    "# file_name_list[:7]\n",
    "# file_name_list[len(file_name_list)-7:len(file_name_list)]"
   ]
  },
  {
   "cell_type": "markdown",
   "id": "3da77d31-67ad-48b6-a834-c884d36ef6d1",
   "metadata": {},
   "source": [
    "Sample n random files from the file name list"
   ]
  },
  {
   "cell_type": "code",
   "execution_count": 4,
   "id": "812e08a7-2304-4a16-8ea0-55ec2947e78b",
   "metadata": {},
   "outputs": [
    {
     "data": {
      "text/plain": [
       "['glider/SANDIEGO/2022/amlr08-20220513-shadowgraph/SG01 20220516-093653-005.jpg',\n",
       " 'glider/SANDIEGO/2022/amlr08-20220513-shadowgraph/SG01 20220514-184708-004.jpg',\n",
       " 'glider/SANDIEGO/2022/amlr08-20220513-shadowgraph/SG01 20220513-224704-009.jpg',\n",
       " 'glider/SANDIEGO/2022/amlr08-20220513-shadowgraph/SG01 20220515-115109-002.jpg',\n",
       " 'glider/SANDIEGO/2022/amlr08-20220513-shadowgraph/SG01 20220514-070708-020.jpg',\n",
       " 'glider/SANDIEGO/2022/amlr08-20220513-shadowgraph/SG01 20220515-144411-004.jpg',\n",
       " 'glider/SANDIEGO/2022/amlr08-20220513-shadowgraph/SG01 20220514-223235-016.jpg']"
      ]
     },
     "execution_count": 4,
     "metadata": {},
     "output_type": "execute_result"
    }
   ],
   "source": [
    "files_sample = random.sample(file_name_list, k=n)\n",
    "files_sample\n",
    "files_sample[:7]"
   ]
  },
  {
   "cell_type": "markdown",
   "id": "1f6c6ed2-92a4-4ef9-9fc9-53ad36b887fa",
   "metadata": {},
   "source": [
    "### Copy files"
   ]
  },
  {
   "cell_type": "markdown",
   "id": "56cdd271-3035-4aaa-aa76-5d24a16901fe",
   "metadata": {},
   "source": [
    "Copy selected files to training folder(s). Return codes of 0 are good"
   ]
  },
  {
   "cell_type": "code",
   "execution_count": 5,
   "id": "c74ff45b-bac5-4525-989c-ab0544294b95",
   "metadata": {},
   "outputs": [],
   "source": [
    "# # Works for one folder\n",
    "# files_sample_path = [f\"gs://{bucket_name}/{i}\" for i in files_sample]\n",
    "# args = [\"gsutil\", \"-m\", \"cp\", \"-I\", f\"gs://{bucket_path_out}\"]\n",
    "# p = subprocess.run(args, input='\\n'.join(files_sample_path).encode(), capture_output=True)"
   ]
  },
  {
   "cell_type": "code",
   "execution_count": 6,
   "id": "67b414db-b324-44e6-b1df-7a56bb225302",
   "metadata": {},
   "outputs": [],
   "source": [
    "files_sample_path = [f\"gs://{bucket_name}/{i}\" for i in files_sample]\n",
    "lst = files_sample_path\n",
    "z = [sorted(lst[i:i + n_images]) for i in range(0, len(lst), n_images)]"
   ]
  },
  {
   "cell_type": "code",
   "execution_count": 9,
   "id": "20b673b0-e01b-47d3-8bb7-0683f7eeb250",
   "metadata": {},
   "outputs": [
    {
     "name": "stdout",
     "output_type": "stream",
     "text": [
      "Subprocess return code for folder train-01-amlr08-20220513: 0\n",
      "Subprocess return code for folder train-02-amlr08-20220513: 0\n",
      "Subprocess return code for folder train-03-amlr08-20220513: 0\n"
     ]
    }
   ],
   "source": [
    "for i in range(n_folders):\n",
    "    args = [\"gsutil\", \"-m\", \"cp\", \"-I\", f\"gs://{bucket_path_out}/{image_type}-{i+1:02}-{deployment}\"]\n",
    "    # print(args)\n",
    "    p = subprocess.run(args, input='\\n'.join(z[i]).encode(), capture_output=True)\n",
    "    print(f\"Subprocess return code for folder {image_type}-{i+1:02}-{deployment}: {p.returncode}\")"
   ]
  }
 ],
 "metadata": {
  "environment": {
   "name": "tf2-gpu.2-6.m81",
   "type": "gcloud",
   "uri": "gcr.io/deeplearning-platform-release/tf2-gpu.2-6:m81"
  },
  "kernelspec": {
   "display_name": "Python 3",
   "language": "python",
   "name": "python3"
  },
  "language_info": {
   "codemirror_mode": {
    "name": "ipython",
    "version": 3
   },
   "file_extension": ".py",
   "mimetype": "text/x-python",
   "name": "python",
   "nbconvert_exporter": "python",
   "pygments_lexer": "ipython3",
   "version": "3.7.10"
  }
 },
 "nbformat": 4,
 "nbformat_minor": 5
}
