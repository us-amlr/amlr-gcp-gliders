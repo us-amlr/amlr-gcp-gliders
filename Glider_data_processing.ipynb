{
 "cells": [
  {
   "cell_type": "markdown",
   "id": "6af8b63b",
   "metadata": {},
   "source": [
    "# Raw glider data processing"
   ]
  },
  {
   "cell_type": "markdown",
   "id": "ef443548",
   "metadata": {},
   "source": [
    "This notebook assumes that 'Cache_processing.ipynb' has already been run, and thus all cache file filenames are lowercase"
   ]
  },
  {
   "cell_type": "code",
   "execution_count": 3,
   "id": "13116a32",
   "metadata": {},
   "outputs": [],
   "source": [
    "import time\n",
    "import os"
   ]
  },
  {
   "cell_type": "markdown",
   "id": "f1718b79",
   "metadata": {},
   "source": [
    "First we mount the bucket"
   ]
  },
  {
   "cell_type": "code",
   "execution_count": 2,
   "id": "8537f56d",
   "metadata": {},
   "outputs": [
    {
     "data": {
      "text/plain": [
       "0"
      ]
     },
     "execution_count": 2,
     "metadata": {},
     "output_type": "execute_result"
    }
   ],
   "source": [
    "os.system(\"gcsfuse --implicit-dirs amlr-gliders-raw /home/jupyter/amlr-gliders-raw-bucket/\")"
   ]
  },
  {
   "cell_type": "code",
   "execution_count": null,
   "id": "ddf55aa0",
   "metadata": {},
   "outputs": [],
   "source": [
    "start = time.time()\n",
    "os.system(\"/home/jupyter/processDbds.sh /home/jupyter/amlr-gliders-raw-bucket/2021_07_SanDiego /home/jupyter/data_processed\")\n",
    "end = time.time()\n",
    "print(end - start)"
   ]
  }
 ],
 "metadata": {
  "environment": {
   "name": "common-cpu.m76",
   "type": "gcloud",
   "uri": "gcr.io/deeplearning-platform-release/base-cpu:m76"
  },
  "kernelspec": {
   "display_name": "Python 3",
   "language": "python",
   "name": "python3"
  },
  "language_info": {
   "codemirror_mode": {
    "name": "ipython",
    "version": 3
   },
   "file_extension": ".py",
   "mimetype": "text/x-python",
   "name": "python",
   "nbconvert_exporter": "python",
   "pygments_lexer": "ipython3",
   "version": "3.7.10"
  }
 },
 "nbformat": 4,
 "nbformat_minor": 5
}
