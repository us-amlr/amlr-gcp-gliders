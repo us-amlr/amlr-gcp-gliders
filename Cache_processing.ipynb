{
 "cells": [
  {
   "cell_type": "markdown",
   "id": "7be7b15c",
   "metadata": {},
   "source": [
    "# Make .cac filenames lowercase"
   ]
  },
  {
   "cell_type": "markdown",
   "id": "016cf598",
   "metadata": {},
   "source": [
    "This script makes sure that all cache files have lowercase names.\n",
    "\n",
    "Sam TODO: do this directly in the bucket using pubsub"
   ]
  },
  {
   "cell_type": "markdown",
   "id": "dc52c3ac-d98d-4805-8d96-9980d42b24cd",
   "metadata": {},
   "source": [
    "### Prep and list files to be renamed"
   ]
  },
  {
   "cell_type": "code",
   "execution_count": 1,
   "id": "705659ba",
   "metadata": {},
   "outputs": [],
   "source": [
    "import os\n",
    "bucket_name = \"amlr-gliders-cache\"\n",
    "folder_name = \"gliders-cache-bucket\""
   ]
  },
  {
   "cell_type": "code",
   "execution_count": 4,
   "id": "42fc3212",
   "metadata": {},
   "outputs": [
    {
     "name": "stdout",
     "output_type": "stream",
     "text": [
      "2021/09/24 02:52:06.086020 Using mount point: /home/jupyter/gliders-cache-bucket\n",
      "2021/09/24 02:52:06.096357 Opening GCS connection...\n",
      "2021/09/24 02:52:06.192668 Mounting file system \"amlr-gliders-cache\"...\n",
      "2021/09/24 02:52:06.200106 File system has been successfully mounted.\n"
     ]
    },
    {
     "data": {
      "text/plain": [
       "0"
      ]
     },
     "execution_count": 4,
     "metadata": {},
     "output_type": "execute_result"
    }
   ],
   "source": [
    "os.system(\"gcsfuse --implicit-dirs \" + bucket_name + \" /home/jupyter/\" + folder_name + \"/\")"
   ]
  },
  {
   "cell_type": "markdown",
   "id": "7e218912-1cc4-47f6-b7b5-871ebd2bd152",
   "metadata": {},
   "source": [
    "The following files need to be renamed:"
   ]
  },
  {
   "cell_type": "code",
   "execution_count": 7,
   "id": "a4e97544-bded-4c44-a777-9d6fb0edcc4b",
   "metadata": {},
   "outputs": [
    {
     "name": "stdout",
     "output_type": "stream",
     "text": [
      "307EF85E.CAC\n",
      "7D72323C.CAC\n",
      "92DF5C5A.CAC\n"
     ]
    }
   ],
   "source": [
    "files_list = os.listdir(os.path.join(\"/home/jupyter\", folder_name))\n",
    "files_list_CAC = list(filter(lambda i: i.endswith(\".CAC\"), files_list))\n",
    "print(*files_list_CAC, sep = \"\\n\")"
   ]
  },
  {
   "cell_type": "markdown",
   "id": "2efb98dd-e333-4f9e-b44a-77588ab66a6a",
   "metadata": {},
   "source": [
    "### Rename files, and delete old files"
   ]
  },
  {
   "cell_type": "markdown",
   "id": "7307594e",
   "metadata": {},
   "source": [
    "Create .cac files with lowercase file names. Make sure that this command prints the same number of files as the above block"
   ]
  },
  {
   "cell_type": "code",
   "execution_count": null,
   "id": "dd449f38",
   "metadata": {},
   "outputs": [],
   "source": [
    "os.system(\"/home/jupyter/slocum/bin2ascii/cac2lower.sh /home/jupyter/\" + folder_name + \"/*\")"
   ]
  },
  {
   "cell_type": "markdown",
   "id": "e76c7b5d",
   "metadata": {},
   "source": [
    "If we have created files with lower-case names, we delete the (capitalized) .CAC files."
   ]
  },
  {
   "cell_type": "code",
   "execution_count": null,
   "id": "268c5e79",
   "metadata": {},
   "outputs": [],
   "source": [
    "# Make sure that all .CAC files have corresponding .cac files before deleting\n",
    "delete_ok = True\n",
    "files_list_new = os.listdir(os.path.join(\"/home/jupyter\", folder_name))\n",
    "\n",
    "for i in files_list_CAC:\n",
    "    if i.lower() not in files_list_new:\n",
    "        delete_ok = False\n",
    "\n",
    "if delete_ok: \n",
    "    os.system(\"find /home/jupyter/\" + folder_name + \" -name '*.CAC' -delete\")\n",
    "else:\n",
    "    print(\"Not all '.CAC' files have a corresponding 'cac' file and thus we do not want to delete the .CAC files. Did the above block run correctly?\")"
   ]
  },
  {
   "cell_type": "markdown",
   "id": "74152aaf",
   "metadata": {},
   "source": [
    "### Unmount bucket"
   ]
  },
  {
   "cell_type": "code",
   "execution_count": 3,
   "id": "739a64bd",
   "metadata": {},
   "outputs": [
    {
     "data": {
      "text/plain": [
       "0"
      ]
     },
     "execution_count": 3,
     "metadata": {},
     "output_type": "execute_result"
    }
   ],
   "source": [
    "os.system(\"fusermount -u /home/jupyter/\" + folder_name)"
   ]
  }
 ],
 "metadata": {
  "environment": {
   "name": "common-cpu.m80",
   "type": "gcloud",
   "uri": "gcr.io/deeplearning-platform-release/base-cpu:m80"
  },
  "kernelspec": {
   "display_name": "Python 3",
   "language": "python",
   "name": "python3"
  },
  "language_info": {
   "codemirror_mode": {
    "name": "ipython",
    "version": 3
   },
   "file_extension": ".py",
   "mimetype": "text/x-python",
   "name": "python",
   "nbconvert_exporter": "python",
   "pygments_lexer": "ipython3",
   "version": "3.7.10"
  }
 },
 "nbformat": 4,
 "nbformat_minor": 5
}
