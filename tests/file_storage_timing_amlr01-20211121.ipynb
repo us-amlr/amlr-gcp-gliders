{
 "cells": [
  {
   "cell_type": "markdown",
   "id": "b9285ec4-4cf1-4688-82a8-ed2748d7372d",
   "metadata": {},
   "source": [
    "# Timing tests for writing "
   ]
  },
  {
   "cell_type": "markdown",
   "id": "12b636b4-0049-4228-9d32-6b37d2d7b62b",
   "metadata": {},
   "source": [
    "Import packages, and check working directory + environment"
   ]
  },
  {
   "cell_type": "code",
   "execution_count": 2,
   "id": "a8522ff9-144d-4224-8293-5b8098ec5c0d",
   "metadata": {},
   "outputs": [],
   "source": [
    "import os\n",
    "import sys\n",
    "import pandas as pd\n",
    "import logging\n",
    "import pickle\n",
    "import multiprocessing as mp\n",
    "import pyarrow.feather as feather\n",
    "import pyarrow.parquet as pq\n",
    "\n",
    "sys.path.append(\"C:/SMW/Gliders_Moorings/Gliders/gdm\")\n",
    "from gdm import GliderDataModel\n",
    "from gdm.gliders.slocum import load_slocum_dba #, get_dbas"
   ]
  },
  {
   "cell_type": "code",
   "execution_count": 3,
   "id": "0ac8697f-2f0b-47b5-b2ea-cf9e85d7b19a",
   "metadata": {},
   "outputs": [
    {
     "name": "stdout",
     "output_type": "stream",
     "text": [
      "C:\\SMW\\Gliders_Moorings\\Gliders\\Glider-Data\n",
      "\n",
      "     active environment : gdm\n",
      "    active env location : C:\\Users\\sam.woodman\\Anaconda3\\envs\\gdm\n",
      "            shell level : 2\n",
      "       user config file : C:\\Users\\sam.woodman\\.condarc\n",
      " populated config files : C:\\Users\\sam.woodman\\.condarc\n",
      "          conda version : 4.11.0\n",
      "    conda-build version : 3.21.7\n",
      "         python version : 3.8.8.final.0\n",
      "       virtual packages : __win=0=0\n",
      "                          __archspec=1=x86_64\n",
      "       base environment : C:\\Users\\sam.woodman\\Anaconda3  (writable)\n",
      "      conda av data dir : C:\\Users\\sam.woodman\\Anaconda3\\etc\\conda\n",
      "  conda av metadata url : None\n",
      "           channel URLs : https://conda.anaconda.org/default/win-64\n",
      "                          https://conda.anaconda.org/default/noarch\n",
      "                          https://conda.anaconda.org/conda-forge/win-64\n",
      "                          https://conda.anaconda.org/conda-forge/noarch\n",
      "          package cache : C:\\Users\\sam.woodman\\Anaconda3\\pkgs\n",
      "                          C:\\Users\\sam.woodman\\.conda\\pkgs\n",
      "                          C:\\Users\\sam.woodman\\AppData\\Local\\conda\\conda\\pkgs\n",
      "       envs directories : C:\\Users\\sam.woodman\\Anaconda3\\envs\n",
      "                          C:\\Users\\sam.woodman\\.conda\\envs\n",
      "                          C:\\Users\\sam.woodman\\AppData\\Local\\conda\\conda\\envs\n",
      "               platform : win-64\n",
      "             user-agent : conda/4.11.0 requests/2.25.1 CPython/3.8.8 Windows/10 Windows/10.0.19041\n",
      "          administrator : False\n",
      "             netrc file : None\n",
      "           offline mode : False\n",
      "\n"
     ]
    }
   ],
   "source": [
    "os.chdir(os.path.join('C:/SMW/Gliders_Moorings/Gliders', 'Glider-Data'))\n",
    "print(os.getcwd())\n",
    "!conda info"
   ]
  },
  {
   "cell_type": "markdown",
   "id": "9efd6192-753b-436e-9d60-ceef6ca289d1",
   "metadata": {},
   "source": [
    "## Glider data processing"
   ]
  },
  {
   "cell_type": "markdown",
   "id": "660e1087-f098-4924-b756-f2bea4095b3e",
   "metadata": {},
   "source": [
    "Set variables and file paths"
   ]
  },
  {
   "cell_type": "code",
   "execution_count": 3,
   "id": "d012e84f-5842-439e-ab83-82349a3e6ded",
   "metadata": {},
   "outputs": [],
   "source": [
    "project = 'FREEBYRD'\n",
    "deployment = 'amlr01-20211121'\n",
    "mode = 'delayed'"
   ]
  },
  {
   "cell_type": "code",
   "execution_count": 7,
   "id": "88bfe425-978f-4cbb-9523-f6b9dbf0ebe7",
   "metadata": {},
   "outputs": [
    {
     "name": "stdout",
     "output_type": "stream",
     "text": [
      "num_cores: 7\n"
     ]
    }
   ],
   "source": [
    "num_cores = mp.cpu_count() - 1\n",
    "print('num_cores: {:}'.format(num_cores))\n",
    "\n",
    "if mode == 'delayed':\n",
    "     binary_folder = 'debd'\n",
    "else: \n",
    "    binary_folder = 'stbd'\n",
    "     \n",
    "\n",
    "### Set path/file variables\n",
    "year = deployment[7:11]\n",
    "logging.info('Year, extracted from deployment: {:}'.format(year))\n",
    "deployment_mode = deployment + '-' + mode\n",
    "deployment_path = os.path.join(project, year, deployment, 'glider')\n",
    "logging.info('Deployment path: {:}'.format(deployment_path))\n",
    "\n",
    "ascii_path  = os.path.join(deployment_path, 'data', 'in', 'ascii', binary_folder)\n",
    "config_path = os.path.join(deployment_path, 'config', 'ngdac')\n",
    "nc_ngdac_path = os.path.join(deployment_path, 'data', 'out', 'nc', 'ngdac', mode)\n",
    "nc_trajectory_path = os.path.join(deployment_path, 'data', 'out', 'nc', 'trajectory', mode)\n",
    "\n",
    "pkl_file_path = os.path.join(deployment_path, 'data', 'pkl', deployment_mode + '-gdm.pkl')\n",
    "tmp_path = os.path.join(deployment_path, 'data', 'tmp')"
   ]
  },
  {
   "cell_type": "markdown",
   "id": "42a96238-b199-4b36-b7a7-9a90dfa3da16",
   "metadata": {},
   "source": [
    "Create gdm object and get dba files"
   ]
  },
  {
   "cell_type": "code",
   "execution_count": 5,
   "id": "c664494d-356e-4739-88f2-d197d07678e2",
   "metadata": {},
   "outputs": [
    {
     "data": {
      "text/plain": [
       "<GliderNetCDF(cfg=True, data=(0, 0), profiles=0)>"
      ]
     },
     "execution_count": 5,
     "metadata": {},
     "output_type": "execute_result"
    }
   ],
   "source": [
    "gdm = GliderDataModel(config_path)\n",
    "gdm"
   ]
  },
  {
   "cell_type": "code",
   "execution_count": 6,
   "id": "9e948196-d72e-4954-afbf-a51fec447f30",
   "metadata": {},
   "outputs": [
    {
     "data": {
      "text/html": [
       "<div>\n",
       "<style scoped>\n",
       "    .dataframe tbody tr th:only-of-type {\n",
       "        vertical-align: middle;\n",
       "    }\n",
       "\n",
       "    .dataframe tbody tr th {\n",
       "        vertical-align: top;\n",
       "    }\n",
       "\n",
       "    .dataframe thead th {\n",
       "        text-align: right;\n",
       "    }\n",
       "</style>\n",
       "<table border=\"1\" class=\"dataframe\">\n",
       "  <thead>\n",
       "    <tr style=\"text-align: right;\">\n",
       "      <th></th>\n",
       "      <th>dba_file</th>\n",
       "    </tr>\n",
       "  </thead>\n",
       "  <tbody>\n",
       "    <tr>\n",
       "      <th>0</th>\n",
       "      <td>FREEBYRD\\2021\\amlr01-20211121\\glider\\data\\in\\a...</td>\n",
       "    </tr>\n",
       "    <tr>\n",
       "      <th>1</th>\n",
       "      <td>FREEBYRD\\2021\\amlr01-20211121\\glider\\data\\in\\a...</td>\n",
       "    </tr>\n",
       "    <tr>\n",
       "      <th>2</th>\n",
       "      <td>FREEBYRD\\2021\\amlr01-20211121\\glider\\data\\in\\a...</td>\n",
       "    </tr>\n",
       "    <tr>\n",
       "      <th>3</th>\n",
       "      <td>FREEBYRD\\2021\\amlr01-20211121\\glider\\data\\in\\a...</td>\n",
       "    </tr>\n",
       "    <tr>\n",
       "      <th>4</th>\n",
       "      <td>FREEBYRD\\2021\\amlr01-20211121\\glider\\data\\in\\a...</td>\n",
       "    </tr>\n",
       "  </tbody>\n",
       "</table>\n",
       "</div>"
      ],
      "text/plain": [
       "                                            dba_file\n",
       "0  FREEBYRD\\2021\\amlr01-20211121\\glider\\data\\in\\a...\n",
       "1  FREEBYRD\\2021\\amlr01-20211121\\glider\\data\\in\\a...\n",
       "2  FREEBYRD\\2021\\amlr01-20211121\\glider\\data\\in\\a...\n",
       "3  FREEBYRD\\2021\\amlr01-20211121\\glider\\data\\in\\a...\n",
       "4  FREEBYRD\\2021\\amlr01-20211121\\glider\\data\\in\\a..."
      ]
     },
     "execution_count": 6,
     "metadata": {},
     "output_type": "execute_result"
    }
   ],
   "source": [
    "# Add data from dba files to gdm\n",
    "dba_files_list = list(map(lambda x: os.path.join(ascii_path, x), os.listdir(ascii_path)))\n",
    "dba_files = pd.DataFrame(dba_files_list, columns = ['dba_file'])\n",
    "dba_files.head()"
   ]
  },
  {
   "cell_type": "markdown",
   "id": "65fc750a-b9a5-4c85-9813-50ef2c47e348",
   "metadata": {},
   "source": [
    "Now we load the dba files"
   ]
  },
  {
   "cell_type": "code",
   "execution_count": 8,
   "id": "4394c6ba-f7e2-46ce-97f8-ead272e50f2a",
   "metadata": {},
   "outputs": [
    {
     "name": "stdout",
     "output_type": "stream",
     "text": [
      "Wall time: 9min 56s\n"
     ]
    },
    {
     "data": {
      "text/plain": [
       "<GliderNetCDF(cfg=True, data=(1203725, 1806), profiles=1583)>"
      ]
     },
     "execution_count": 8,
     "metadata": {},
     "output_type": "execute_result"
    }
   ],
   "source": [
    "%%time\n",
    "pool = mp.Pool(num_cores)\n",
    "load_slocum_dba_list = pool.map(load_slocum_dba, dba_files_list)\n",
    "pool.close()   \n",
    "\n",
    "load_slocum_dba_list_unzipped = list(zip(*load_slocum_dba_list))\n",
    "dba = pd.concat(load_slocum_dba_list_unzipped[0]).sort_index()\n",
    "pro_meta = pd.concat(load_slocum_dba_list_unzipped[1]).sort_index()            \n",
    "\n",
    "gdm.data = dba \n",
    "gdm.profiles = pro_meta\n",
    "gdm"
   ]
  },
  {
   "cell_type": "markdown",
   "id": "74c0700a-120b-429f-a4d9-6ea53c1140c2",
   "metadata": {},
   "source": [
    "## File storage testing"
   ]
  },
  {
   "cell_type": "markdown",
   "id": "f3e658d7-5662-406e-9cb3-5e111c1fedee",
   "metadata": {},
   "source": [
    "Now that we have the glider data loaded, we can test file storage options. All files will be written to the glider/data/tmp folder"
   ]
  },
  {
   "cell_type": "markdown",
   "id": "5ce81710-54d9-4f27-86be-2319dede843a",
   "metadata": {},
   "source": [
    "#### pickle"
   ]
  },
  {
   "cell_type": "markdown",
   "id": "ef68d3a2-4f7b-4e7c-bc82-4943bfd6cad6",
   "metadata": {},
   "source": [
    "First we test saving and reading the file as a [pkl file](https://docs.python.org/3/library/pickle.html). This is the 'easiest' as it save the hole gdm object, with no additional processing. \n",
    "\n",
    "However, the pkl file type is specific to Python and thus not language-agnostic like Apache Arrow"
   ]
  },
  {
   "cell_type": "markdown",
   "id": "4debae3a-1e58-4dac-b597-6f4d962143a5",
   "metadata": {},
   "source": [
    "First we save the file:"
   ]
  },
  {
   "cell_type": "code",
   "execution_count": 17,
   "id": "f87c9738-218e-4e2e-8eff-58006e61b757",
   "metadata": {},
   "outputs": [
    {
     "name": "stdout",
     "output_type": "stream",
     "text": [
      "Wall time: 24.4 s\n"
     ]
    }
   ],
   "source": [
    "%%time\n",
    "pkl_file_path = os.path.join(tmp_path, deployment_mode + '.pkl')\n",
    "with open(pkl_file_path, 'wb') as outp:\n",
    "    pickle.dump(gdm, outp, pickle.HIGHEST_PROTOCOL)\n",
    "del outp"
   ]
  },
  {
   "cell_type": "markdown",
   "id": "c237ea13-1c67-4615-81ab-40d98367aa6a",
   "metadata": {},
   "source": [
    "And then we read it back in"
   ]
  },
  {
   "cell_type": "code",
   "execution_count": 18,
   "id": "9a7e9f7b-3bb6-438c-b43a-eba9cf09ac79",
   "metadata": {},
   "outputs": [
    {
     "name": "stdout",
     "output_type": "stream",
     "text": [
      "Wall time: 29.1 s\n"
     ]
    }
   ],
   "source": [
    "%%time\n",
    "with open(pkl_file_path, 'rb') as inp:\n",
    "    gdm_pkl = pickle.load(inp)\n",
    "del inp"
   ]
  },
  {
   "cell_type": "markdown",
   "id": "eab1a52c-0d1b-44fe-9496-74967bebcc1b",
   "metadata": {},
   "source": [
    "Compare equality with gdm, and then delete object to clear file space"
   ]
  },
  {
   "cell_type": "code",
   "execution_count": 19,
   "id": "70964031-582a-45a9-9efb-6170c1dab4a0",
   "metadata": {},
   "outputs": [
    {
     "name": "stdout",
     "output_type": "stream",
     "text": [
      "<GliderNetCDF(cfg=True, data=(1203725, 1806), profiles=1583)>\n",
      "<GliderNetCDF(cfg=True, data=(1203725, 1806), profiles=1583)>\n",
      "True\n",
      "True\n"
     ]
    }
   ],
   "source": [
    "print(gdm)\n",
    "print(gdm_pkl)\n",
    "print(gdm.data.equals(gdm_pkl.data))\n",
    "print(gdm.profiles.equals(gdm_pkl.profiles))"
   ]
  },
  {
   "cell_type": "code",
   "execution_count": 20,
   "id": "edf8841f-4bd8-4195-8126-f32f62cfa014",
   "metadata": {},
   "outputs": [],
   "source": [
    "del gdm_pkl"
   ]
  },
  {
   "cell_type": "markdown",
   "id": "48aa0a52-bc0f-42d3-b8d7-d11a076d60c6",
   "metadata": {},
   "source": [
    "#### feather"
   ]
  },
  {
   "cell_type": "markdown",
   "id": "71c31ff8-3fcf-4362-9334-7b377e2d69c8",
   "metadata": {},
   "source": [
    "[Feather](https://arrow.apache.org/docs/python/feather.html) is part of the [Apache Arrow Platform](https://arrow.apache.org/docs/index.html), and provides a \"fast, language-agnostic data frame storage solution\".\n",
    "\n",
    "Some cons of feather:\n",
    "\n",
    "- Feather is only for data frames, and thus the pieces of the gdm obeject (data and profile dataframes) must be saved separately. Therefore, the gdm object must be recreated when the data are read.\n",
    "\n",
    "- Feather files do not store the indexes of Pandas data frames, and thus the indices must be moved to a column before saving, and the index must be set when recreating the gdm object\n",
    "\n",
    "NOTE: feather unable to allocate enough space on Sam's local computer. Will try in GCP"
   ]
  },
  {
   "cell_type": "code",
   "execution_count": 26,
   "id": "35adcde8-7bf4-47b4-a620-0ca8a9d1ea92",
   "metadata": {},
   "outputs": [],
   "source": [
    "# %%time\n",
    "# feather_data_file_path = os.path.join(tmp_path, deployment_mode + '-data.feather')\n",
    "# feather_prof_file_path = os.path.join(tmp_path, deployment_mode + '-profiles.feather')\n",
    "\n",
    "# gdm.data.reset_index().to_feather(feather_data_file_path, version = 1)\n",
    "# gdm.profiles.reset_index().to_feather(feather_prof_file_path)"
   ]
  },
  {
   "cell_type": "code",
   "execution_count": 27,
   "id": "a7113298-f9cf-4170-9de6-0232048e5a87",
   "metadata": {},
   "outputs": [],
   "source": [
    "# %%time\n",
    "# gdm_feather = GliderDataModel(config_path)\n",
    "# gdm_feather.data = feather.read_feather(feather_data_file_path).set_index('time')\n",
    "# gdm_feather.profiles = feather.read_feather(feather_prof_file_path).set_index('midpoint_time')"
   ]
  },
  {
   "cell_type": "markdown",
   "id": "941102df-0581-4c96-a06a-1ff7760d62a9",
   "metadata": {},
   "source": [
    "#### parquet"
   ]
  },
  {
   "cell_type": "markdown",
   "id": "24a93af1-32ad-4954-b133-0cf75ed54051",
   "metadata": {},
   "source": [
    "[Parquet](https://arrow.apache.org/docs/python/parquet.html) is part of the [Apache Arrow Platform](https://arrow.apache.org/docs/index.html), and provides a \"standardized open-source columnar storage format\". Parquet file formats are generally considered to be more stable than feather.\n",
    "\n",
    "Like feather, parquet is for data frames, and thus gdm.data and gdm.profiles must be saved separately."
   ]
  },
  {
   "cell_type": "code",
   "execution_count": 9,
   "id": "f39f9782-4de7-4186-ae13-ccea79def6c3",
   "metadata": {},
   "outputs": [
    {
     "name": "stdout",
     "output_type": "stream",
     "text": [
      "Wall time: 31.9 s\n"
     ]
    }
   ],
   "source": [
    "%%time\n",
    "parquet_data_file_path = os.path.join(tmp_path, deployment_mode + '-data.parquet')\n",
    "parquet_prof_file_path = os.path.join(tmp_path, deployment_mode + '-profiles.parquet')\n",
    "\n",
    "gdm.data.to_parquet(parquet_data_file_path, version=\"2.6\", index = True)\n",
    "gdm.profiles.to_parquet(parquet_prof_file_path, version=\"2.6\", index = True)"
   ]
  },
  {
   "cell_type": "code",
   "execution_count": 10,
   "id": "a338eabe-b32a-4024-8b00-a06e2523938c",
   "metadata": {},
   "outputs": [
    {
     "name": "stdout",
     "output_type": "stream",
     "text": [
      "Wall time: 1min 19s\n"
     ]
    }
   ],
   "source": [
    "%%time\n",
    "gdm_pq = GliderDataModel(config_path)\n",
    "gdm_pq.data = pd.read_parquet(parquet_data_file_path)\n",
    "gdm_pq.profiles = pd.read_parquet(parquet_prof_file_path)"
   ]
  },
  {
   "cell_type": "markdown",
   "id": "a943a51a-18c7-453f-be90-863595643eed",
   "metadata": {},
   "source": [
    "Test equality with original gdm object"
   ]
  },
  {
   "cell_type": "code",
   "execution_count": 15,
   "id": "e7d421cf-d2be-44c7-b69a-37d0b2417e17",
   "metadata": {},
   "outputs": [
    {
     "name": "stdout",
     "output_type": "stream",
     "text": [
      "<GliderNetCDF(cfg=True, data=(1203725, 1806), profiles=1583)>\n",
      "<GliderNetCDF(cfg=True, data=(1203725, 1806), profiles=1583)>\n",
      "data dataframes are equal: True\n",
      "profiles dataframes are equal: True\n"
     ]
    }
   ],
   "source": [
    "print(gdm)\n",
    "print(gdm_pq)\n",
    "print('data dataframes are equal: {:}'.format(gdm.data.equals(gdm_pq.data)))\n",
    "print('profiles dataframes are equal: {:}'.format(gdm.profiles.equals(gdm_pq.profiles)))"
   ]
  },
  {
   "cell_type": "code",
   "execution_count": null,
   "id": "451a8c40-b96d-455e-91e5-d79763ee6734",
   "metadata": {},
   "outputs": [],
   "source": [
    "del gdm_pq"
   ]
  },
  {
   "cell_type": "markdown",
   "id": "be69ac5c-bf03-45b3-a99b-109455169658",
   "metadata": {},
   "source": [
    "## Summary"
   ]
  },
  {
   "cell_type": "markdown",
   "id": "cb2f1093-703f-48b6-8da7-acfa48253715",
   "metadata": {},
   "source": [
    "Overall, pickle is the simplest to use because it saves the entire gdm object. However, pickle cannot be read in to R or Matlab, and the saved file is very large (16 GB for amlr01-20211121-delayed). \n",
    "\n",
    "Thus, moving forward Sam will use parquet. Parquet can save dataframes with their index (indicies), which minimizes the reconstruction that needs to happen. Plus, for whatever reason it doesn't run into the memory allocation issues that feather hits. "
   ]
  }
 ],
 "metadata": {
  "kernelspec": {
   "display_name": "Python 3 (ipykernel)",
   "language": "python",
   "name": "python3"
  },
  "language_info": {
   "codemirror_mode": {
    "name": "ipython",
    "version": 3
   },
   "file_extension": ".py",
   "mimetype": "text/x-python",
   "name": "python",
   "nbconvert_exporter": "python",
   "pygments_lexer": "ipython3",
   "version": "3.8.12"
  }
 },
 "nbformat": 4,
 "nbformat_minor": 5
}
