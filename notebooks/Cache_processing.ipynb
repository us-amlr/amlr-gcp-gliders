{
 "cells": [
  {
   "cell_type": "markdown",
   "id": "7be7b15c",
   "metadata": {},
   "source": [
    "# Make .cac filenames lowercase"
   ]
  },
  {
   "cell_type": "markdown",
   "id": "016cf598",
   "metadata": {},
   "source": [
    "This script makes sure that all cache files have lowercase names. This script depends on a single cache file being located in a amlr-gliders-deployments-dev folder\n",
    "\n",
    "Sam TODO: do this directly in the bucket using pubsub"
   ]
  },
  {
   "cell_type": "markdown",
   "id": "dc52c3ac-d98d-4805-8d96-9980d42b24cd",
   "metadata": {},
   "source": [
    "### Prep and list files to be renamed"
   ]
  },
  {
   "cell_type": "code",
   "execution_count": null,
   "id": "705659ba",
   "metadata": {},
   "outputs": [],
   "source": [
    "import os\n",
    "home_path = \"/home/jupyter\"\n",
    "bucket_cache = \"amlr-gliders-deployments-dev/cache\"\n",
    "folder_cache = os.path.join(home_path, bucket_cache)"
   ]
  },
  {
   "cell_type": "markdown",
   "id": "ff028308-076e-477b-9591-20840a0abcba",
   "metadata": {},
   "source": [
    "The bucket is already mounted by the startup script. The following files need to be renamed:"
   ]
  },
  {
   "cell_type": "code",
   "execution_count": null,
   "id": "a4e97544-bded-4c44-a777-9d6fb0edcc4b",
   "metadata": {},
   "outputs": [],
   "source": [
    "files_list = os.listdir(folder_cache)\n",
    "files_list_CAC = list(filter(lambda i: i.endswith(\".CAC\"), files_list))\n",
    "print(*files_list_CAC, sep = \"\\n\")"
   ]
  },
  {
   "cell_type": "markdown",
   "id": "2efb98dd-e333-4f9e-b44a-77588ab66a6a",
   "metadata": {},
   "source": [
    "### Rename files, and delete old files"
   ]
  },
  {
   "cell_type": "markdown",
   "id": "7307594e",
   "metadata": {},
   "source": [
    "Create .cac files with lowercase file names. Make sure that this command prints the same number of files as the above block"
   ]
  },
  {
   "cell_type": "code",
   "execution_count": null,
   "id": "dd449f38",
   "metadata": {},
   "outputs": [],
   "source": [
    "os.system(\"/home/jupyter/slocum/bin2ascii/cac2lower.sh \" + os.path.join(folder_cache, \"*\"))"
   ]
  },
  {
   "cell_type": "markdown",
   "id": "e76c7b5d",
   "metadata": {},
   "source": [
    "If we have created files with lower-case names, we delete the (capitalized) .CAC files."
   ]
  },
  {
   "cell_type": "code",
   "execution_count": null,
   "id": "268c5e79",
   "metadata": {},
   "outputs": [],
   "source": [
    "# Make sure that all .CAC files have corresponding .cac files before deleting\n",
    "delete_ok = True\n",
    "files_list_new = os.listdir(folder_cache)\n",
    "\n",
    "for i in files_list_CAC:\n",
    "    if i.lower() not in files_list_new:\n",
    "        delete_ok = False\n",
    "\n",
    "if delete_ok: \n",
    "    os.system(\"find \" + folder_cache + \" -name '*.CAC' -delete\")\n",
    "    print(len(files_list_CAC), \".CAC files deleted\")\n",
    "else:\n",
    "    print(\"Not all '.CAC' files have a corresponding 'cac' file and thus we do not want to delete the .CAC files. Did the above block run correctly?\")\n",
    "# os.system(\"find \" + folder_cache + \" -name '*.CAC' -delete\")"
   ]
  }
 ],
 "metadata": {
  "environment": {
   "name": "tf2-gpu.2-6.m81",
   "type": "gcloud",
   "uri": "gcr.io/deeplearning-platform-release/tf2-gpu.2-6:m81"
  },
  "kernelspec": {
   "display_name": "Python 3",
   "language": "python",
   "name": "python3"
  },
  "language_info": {
   "codemirror_mode": {
    "name": "ipython",
    "version": 3
   },
   "file_extension": ".py",
   "mimetype": "text/x-python",
   "name": "python",
   "nbconvert_exporter": "python",
   "pygments_lexer": "ipython3",
   "version": "3.7.10"
  }
 },
 "nbformat": 4,
 "nbformat_minor": 5
}
