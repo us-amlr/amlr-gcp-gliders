{
 "cells": [
  {
   "cell_type": "markdown",
   "id": "66e8e68e",
   "metadata": {},
   "source": [
    "# Raw glider data processing"
   ]
  },
  {
   "cell_type": "markdown",
   "id": "5d7d58b4",
   "metadata": {},
   "source": [
    "This notebook assumes that 'Cache_processing.ipynb' has already been run, and thus all cache file filenames are lowercase"
   ]
  },
  {
   "cell_type": "code",
   "execution_count": null,
   "id": "c082902c",
   "metadata": {},
   "outputs": [],
   "source": [
    "import time\n",
    "import os\n",
    "\n",
    "home_path = \"/home/jupyter\"\n",
    "bucket_cache = \"amlr-gliders-cache\"\n",
    "folder_cache = os.path.join(home_path, \"gliders-cache-bucket\")\n",
    "bucket_deployments = \"amlr-gliders-deployments\"\n",
    "folder_deployments = os.path.join(home_path, \"gliders-deployments-bucket\")"
   ]
  },
  {
   "cell_type": "markdown",
   "id": "58883a08",
   "metadata": {},
   "source": [
    "### File and path prep work"
   ]
  },
  {
   "cell_type": "markdown",
   "id": "ea0d97d5",
   "metadata": {},
   "source": [
    "First we mount the binary and ascii file buckets. A return value of '0' means that the command executed successfully"
   ]
  },
  {
   "cell_type": "code",
   "execution_count": null,
   "id": "e0edf5e4",
   "metadata": {},
   "outputs": [],
   "source": [
    "os.system(\"gcsfuse --implicit-dirs \" + bucket_cache + \" \" + folder_cache)\n",
    "os.system(\"gcsfuse --implicit-dirs \" + bucket_deployments + \" \" + folder_deployments)"
   ]
  },
  {
   "cell_type": "markdown",
   "id": "b767dc32",
   "metadata": {},
   "source": [
    "Set the path + name of the folder in the glider deployments bucket that contains the binary files you want to convert to ASCII"
   ]
  },
  {
   "cell_type": "code",
   "execution_count": null,
   "id": "92a37579",
   "metadata": {},
   "outputs": [],
   "source": [
    "# Directories in glider deployments folder\n",
    "print(\"\\n\".join([f for f in os.listdir(folder_deployments) if not f.startswith('.')]))"
   ]
  },
  {
   "cell_type": "markdown",
   "id": "ec07968e",
   "metadata": {},
   "source": [
    "**USER TODO:** change this folder name as necessary. See the above line for folders in the glider deployment bucket"
   ]
  },
  {
   "cell_type": "code",
   "execution_count": null,
   "id": "6cca0d98",
   "metadata": {},
   "outputs": [],
   "source": [
    "folder_name = \"20181216-amlr01\""
   ]
  },
  {
   "cell_type": "code",
   "execution_count": null,
   "id": "dd6b5a07",
   "metadata": {},
   "outputs": [],
   "source": [
    "path_dba = os.path.join(folder_deployments, folder_name, \"dba\")\n",
    "\n",
    "# Make folder in ascii bucket if necessary\n",
    "if not os.path.isdir(path_dba):\n",
    "    print(f\"Making new directory 'dba' at '{os.path.join(folder_deployments, folder_name)}/'\")\n",
    "    os.mkdir(path_dba)\n",
    "else:\n",
    "    print(\"Directory already exists\")\n",
    "    if len(path_dba) > 0:\n",
    "        print(\"NOTE this directory already contains files - do you still want to run this code?\")\n",
    "    \n",
    "# Concatenate command\n",
    "sys_command = \"/home/jupyter/amlr-gcp-gliders/processDbds_usamlr.sh \" + \\\n",
    "    \"-c \" + folder_cache + \" \" + \\\n",
    "    os.path.join(folder_deployments, folder_name, \"binary\") + \" \" + \\\n",
    "    os.path.join(folder_deployments, folder_name, \"dba\")\n",
    "print(\"\\nbash command to be run:\")\n",
    "print(sys_command)"
   ]
  },
  {
   "cell_type": "markdown",
   "id": "1bb3ddea",
   "metadata": {},
   "source": [
    "### Run kerfoot's processing script"
   ]
  },
  {
   "cell_type": "markdown",
   "id": "74aad148",
   "metadata": {},
   "source": [
    "Print out the runtime, in seconds"
   ]
  },
  {
   "cell_type": "code",
   "execution_count": null,
   "id": "8d473359",
   "metadata": {},
   "outputs": [],
   "source": [
    "start = time.time()\n",
    "print(\"Starting run\")\n",
    "# os.system(sys_command)\n",
    "end = time.time()\n",
    "\n",
    "message = \"Binary files successfully converted to ASCII DBA files in \" + str(round(end - start, 2)) + \" seconds\"\n",
    "\n",
    "tosave = \"echo '\" + message + \"' > /home/jupyter/runtime.txt\"\n",
    "os.system(tosave)\n",
    "\n",
    "print(message)"
   ]
  },
  {
   "cell_type": "markdown",
   "id": "f87bb4d1",
   "metadata": {},
   "source": [
    "### Cleanup and shutdown"
   ]
  },
  {
   "cell_type": "markdown",
   "id": "e0d133e0",
   "metadata": {},
   "source": [
    "Unmount buckets"
   ]
  },
  {
   "cell_type": "code",
   "execution_count": null,
   "id": "490acb3f",
   "metadata": {},
   "outputs": [],
   "source": [
    "os.system(\"fusermount -u \" + folder_deployments)\n",
    "os.system(\"fusermount -u \" + folder_cache)"
   ]
  },
  {
   "cell_type": "markdown",
   "id": "8f944c64",
   "metadata": {},
   "source": [
    "Shut down the VM. Note that this will not close this window, and once the notebook is shut down you will get errors if you try to edit this notebook. Also note that you must keep your computer on and this tab open for the notebook to run."
   ]
  },
  {
   "cell_type": "code",
   "execution_count": null,
   "id": "84262bb5",
   "metadata": {},
   "outputs": [],
   "source": [
    "os.system(\"sudo poweroff\")"
   ]
  }
 ],
 "metadata": {
  "environment": {
   "name": "common-cpu.m80",
   "type": "gcloud",
   "uri": "gcr.io/deeplearning-platform-release/base-cpu:m80"
  },
  "kernelspec": {
   "display_name": "Python 3",
   "language": "python",
   "name": "python3"
  },
  "language_info": {
   "codemirror_mode": {
    "name": "ipython",
    "version": 3
   },
   "file_extension": ".py",
   "mimetype": "text/x-python",
   "name": "python",
   "nbconvert_exporter": "python",
   "pygments_lexer": "ipython3",
   "version": "3.7.10"
  }
 },
 "nbformat": 4,
 "nbformat_minor": 5
}
