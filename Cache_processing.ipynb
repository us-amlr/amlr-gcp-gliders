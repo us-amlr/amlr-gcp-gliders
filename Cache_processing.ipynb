{
 "cells": [
  {
   "cell_type": "markdown",
   "id": "2ad315bd",
   "metadata": {},
   "source": [
    "# Make .cac files lowercase"
   ]
  },
  {
   "cell_type": "markdown",
   "id": "7e0d03db",
   "metadata": {},
   "source": [
    "This script makes sure that all cache files are lowercase.\n",
    "\n",
    "TODO: do this directly in the bucket using pubsub"
   ]
  },
  {
   "cell_type": "code",
   "execution_count": 2,
   "id": "4a96a7fb",
   "metadata": {},
   "outputs": [],
   "source": [
    "import os"
   ]
  },
  {
   "cell_type": "code",
   "execution_count": 6,
   "id": "7681617d",
   "metadata": {},
   "outputs": [
    {
     "data": {
      "text/plain": [
       "0"
      ]
     },
     "execution_count": 6,
     "metadata": {},
     "output_type": "execute_result"
    }
   ],
   "source": [
    "os.system(\"gcsfuse --implicit-dirs amlr-gliders-raw amlr-gliders-raw-bucket/\")"
   ]
  },
  {
   "cell_type": "markdown",
   "id": "ac4cc37b",
   "metadata": {},
   "source": [
    "Create .cac files with lowercase file names..."
   ]
  },
  {
   "cell_type": "code",
   "execution_count": 12,
   "id": "12c1bb19",
   "metadata": {},
   "outputs": [
    {
     "data": {
      "text/plain": [
       "0"
      ]
     },
     "execution_count": 12,
     "metadata": {},
     "output_type": "execute_result"
    }
   ],
   "source": [
    "os.system(\"/home/jupyter/slocum/bin2ascii/cac2lower.sh /home/jupyter/amlr-gliders-raw-bucket/cache/*\")"
   ]
  },
  {
   "cell_type": "markdown",
   "id": "2a698e8d",
   "metadata": {},
   "source": [
    "...and delete .CAC files"
   ]
  },
  {
   "cell_type": "code",
   "execution_count": 13,
   "id": "e199a225",
   "metadata": {},
   "outputs": [
    {
     "data": {
      "text/plain": [
       "0"
      ]
     },
     "execution_count": 13,
     "metadata": {},
     "output_type": "execute_result"
    }
   ],
   "source": [
    "os.system(\"find /home/jupyter/amlr-gliders-raw-bucket/cache -name '*.CAC' -delete\")"
   ]
  }
 ],
 "metadata": {
  "environment": {
   "name": "common-cpu.m76",
   "type": "gcloud",
   "uri": "gcr.io/deeplearning-platform-release/base-cpu:m76"
  },
  "kernelspec": {
   "display_name": "Python 3",
   "language": "python",
   "name": "python3"
  },
  "language_info": {
   "codemirror_mode": {
    "name": "ipython",
    "version": 3
   },
   "file_extension": ".py",
   "mimetype": "text/x-python",
   "name": "python",
   "nbconvert_exporter": "python",
   "pygments_lexer": "ipython3",
   "version": "3.7.10"
  }
 },
 "nbformat": 4,
 "nbformat_minor": 5
}
