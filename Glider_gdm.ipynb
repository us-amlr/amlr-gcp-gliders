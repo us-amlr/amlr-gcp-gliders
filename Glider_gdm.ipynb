{
 "cells": [
  {
   "cell_type": "markdown",
   "id": "27504139",
   "metadata": {},
   "source": [
    "# Use Kerfoot's GDM toolbox to process AMLR glider DBA files"
   ]
  },
  {
   "cell_type": "code",
   "execution_count": null,
   "id": "9af17e81",
   "metadata": {},
   "outputs": [],
   "source": [
    "import os"
   ]
  }
 ],
 "metadata": {
  "environment": {
   "name": "common-cpu.m76",
   "type": "gcloud",
   "uri": "gcr.io/deeplearning-platform-release/base-cpu:m76"
  },
  "kernelspec": {
   "display_name": "Python 3",
   "language": "python",
   "name": "python3"
  },
  "language_info": {
   "codemirror_mode": {
    "name": "ipython",
    "version": 3
   },
   "file_extension": ".py",
   "mimetype": "text/x-python",
   "name": "python",
   "nbconvert_exporter": "python",
   "pygments_lexer": "ipython3",
   "version": "3.7.10"
  }
 },
 "nbformat": 4,
 "nbformat_minor": 5
}
