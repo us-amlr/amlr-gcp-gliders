{
 "cells": [
  {
   "cell_type": "markdown",
   "id": "43d949e0",
   "metadata": {},
   "source": [
    "# Raw glider data processing"
   ]
  },
  {
   "cell_type": "markdown",
   "id": "e7a3c62c",
   "metadata": {},
   "source": [
    "This notebook assumes that 'Cache_processing.ipynb' has already been run, and thus all cache file filenames are lowercase"
   ]
  },
  {
   "cell_type": "code",
   "execution_count": 1,
   "id": "642fb8d3",
   "metadata": {},
   "outputs": [],
   "source": [
    "import time\n",
    "import os"
   ]
  },
  {
   "cell_type": "markdown",
   "id": "00e89dd2",
   "metadata": {},
   "source": [
    "### File and path prep work"
   ]
  },
  {
   "cell_type": "markdown",
   "id": "a36b68ce",
   "metadata": {},
   "source": [
    "First we mount the binary and ascii file buckets. A return value of '0' means that the command executed successfully"
   ]
  },
  {
   "cell_type": "code",
   "execution_count": 2,
   "id": "4ea5e9af",
   "metadata": {},
   "outputs": [
    {
     "data": {
      "text/plain": [
       "256"
      ]
     },
     "execution_count": 2,
     "metadata": {},
     "output_type": "execute_result"
    }
   ],
   "source": [
    "os.system(\"gcsfuse --implicit-dirs amlr-gliders-binary /home/jupyter/gliders-binary-bucket/\")\n",
    "os.system(\"gcsfuse --implicit-dirs amlr-gliders-ascii /home/jupyter/gliders-ascii-bucket/\")"
   ]
  },
  {
   "cell_type": "markdown",
   "id": "44d8187c",
   "metadata": {},
   "source": [
    "Set the path/name of the folder in the amlr-gliders-binary bucket that contains the binary files you want to convert to ASCII"
   ]
  },
  {
   "cell_type": "code",
   "execution_count": 3,
   "id": "ae8eaf70",
   "metadata": {},
   "outputs": [
    {
     "name": "stdout",
     "output_type": "stream",
     "text": [
      "2021_07_SanDiego\n",
      "cache\n"
     ]
    }
   ],
   "source": [
    "# Directories in amlr-gliders-binary folder\n",
    "print(\"\\n\".join([f for f in os.listdir(\"/home/jupyter/gliders-binary-bucket\") if not f.startswith('.')]))"
   ]
  },
  {
   "cell_type": "code",
   "execution_count": 4,
   "id": "98378939",
   "metadata": {},
   "outputs": [],
   "source": [
    "folder_name = \"2021_07_SanDiego\""
   ]
  },
  {
   "cell_type": "markdown",
   "id": "8f0bc071",
   "metadata": {},
   "source": [
    "This code creates an equivalent directory in the amlr-gliders-ascii bucket, if necessary. We also preview the command being run below."
   ]
  },
  {
   "cell_type": "code",
   "execution_count": 5,
   "id": "62171af5",
   "metadata": {},
   "outputs": [
    {
     "name": "stdout",
     "output_type": "stream",
     "text": [
      "Making new directory 2021_07_SanDiego at '/home/jupyter/gliders-ascii-bucket/'\n"
     ]
    },
    {
     "data": {
      "text/plain": [
       "'/home/jupyter/amlr-gcp-gliders/processDbds_usamlr.sh -c /home/jupyter/gliders-binary-bucket/cache /home/jupyter/gliders-binary-bucket/2021_07_SanDiego /home/jupyter/gliders-ascii-bucket/2021_07_SanDiego'"
      ]
     },
     "execution_count": 5,
     "metadata": {},
     "output_type": "execute_result"
    }
   ],
   "source": [
    "path_base_ascii = \"/home/jupyter/gliders-ascii-bucket\"\n",
    "path = os.path.join(path_base_ascii, folder_name)\n",
    "\n",
    "# Make folder in ascii bucket if necessary\n",
    "if not os.path.isdir(path):\n",
    "    print(f\"Making new directory {folder_name} at '{path_base_ascii}/'\")\n",
    "    os.mkdir(path)\n",
    "else:\n",
    "    print(\"Did not need to make new directory\")\n",
    "    \n",
    "# Concatenate command\n",
    "sys_command = \"/home/jupyter/amlr-gcp-gliders/processDbds_usamlr.sh \" + \\\n",
    "    \"-c /home/jupyter/gliders-binary-bucket/cache \" + \\\n",
    "    os.path.join(\"/home/jupyter/gliders-binary-bucket\", folder_name) + \" \" + \\\n",
    "    os.path.join(path_base_ascii, folder_name)\n",
    "sys_command"
   ]
  },
  {
   "cell_type": "markdown",
   "id": "8e35b155",
   "metadata": {},
   "source": [
    "### Run kerfoot's processing script"
   ]
  },
  {
   "cell_type": "markdown",
   "id": "af6459ce",
   "metadata": {},
   "source": [
    "Print out the runtime, in seconds"
   ]
  },
  {
   "cell_type": "code",
   "execution_count": null,
   "id": "b58dd37f",
   "metadata": {},
   "outputs": [],
   "source": [
    "start = time.time()\n",
    "print(\"starting run\")\n",
    "os.system(sys_command)\n",
    "end = time.time()\n",
    "print(end - start)"
   ]
  },
  {
   "cell_type": "markdown",
   "id": "f51d7621",
   "metadata": {},
   "source": [
    "### Cleanup"
   ]
  },
  {
   "cell_type": "markdown",
   "id": "e3422bd9",
   "metadata": {},
   "source": [
    "Unmount buckets"
   ]
  },
  {
   "cell_type": "code",
   "execution_count": null,
   "id": "3968f224",
   "metadata": {},
   "outputs": [],
   "source": [
    "os.system(\"fusermount -u /home/jupyter/gliders-binary-bucket\")\n",
    "os.system(\"fusermount -u /home/jupyter/gliders-ascii-bucket\")"
   ]
  }
 ],
 "metadata": {
  "environment": {
   "name": "common-cpu.m76",
   "type": "gcloud",
   "uri": "gcr.io/deeplearning-platform-release/base-cpu:m76"
  },
  "kernelspec": {
   "display_name": "Python 3",
   "language": "python",
   "name": "python3"
  },
  "language_info": {
   "codemirror_mode": {
    "name": "ipython",
    "version": 3
   },
   "file_extension": ".py",
   "mimetype": "text/x-python",
   "name": "python",
   "nbconvert_exporter": "python",
   "pygments_lexer": "ipython3",
   "version": "3.7.10"
  }
 },
 "nbformat": 4,
 "nbformat_minor": 5
}
